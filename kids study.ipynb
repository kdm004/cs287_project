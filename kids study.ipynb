{
 "cells": [
  {
   "cell_type": "code",
   "execution_count": 1,
   "id": "64fa4be3",
   "metadata": {},
   "outputs": [],
   "source": [
    "import pandas as pd\n",
    "import numpy as np\n",
    "import matplotlib.pyplot as plt\n",
    "from sklearn.feature_selection import RFECV        # feature selection\n",
    "from sklearn.linear_model import LogisticRegression  # models\n",
    "from sklearn.ensemble import RandomForestClassifier\n",
    "from sklearn.ensemble import ExtraTreesClassifier\n",
    "from sklearn.neural_network import MLPClassifier\n",
    "from sklearn.svm import SVC\n",
    "from sklearn.model_selection import GridSearchCV #parameter search\n",
    "from sklearn.model_selection import train_test_split # oversampling and splitting data\n",
    "from sklearn.preprocessing import MinMaxScaler   # scaling the data\n",
    "from imblearn.over_sampling import SMOTE\n",
    "from sklearn.metrics import roc_auc_score           #metrics\n",
    "from sklearn.metrics import accuracy_score\n",
    "from sklearn.metrics import ConfusionMatrixDisplay, confusion_matrix\n",
    "from sklearn.tree import export_graphviz      # pretty plots\n",
    "from subprocess import call\n",
    "from IPython.display import Image\n",
    "from PIL import Image\n",
    "#set random seed\n",
    "# np.random.seed(8)\n",
    "\n",
    "Image.MAX_IMAGE_PIXELS = 933120000\n",
    "\n",
    "# read about the features again and look over the paper"
   ]
  },
  {
   "cell_type": "code",
   "execution_count": 2,
   "id": "70cb559f",
   "metadata": {
    "scrolled": false
   },
   "outputs": [],
   "source": [
    "full_data = pd.read_csv('csv/all_feats_all_tasks_non_slimmed.csv')\n",
    "speech_col_names = [x for x in list(full_data.columns) if 'vad' in x]\n",
    "speech_col_names = speech_col_names + ['childid']\n",
    "speech_ds = full_data[speech_col_names]\n",
    "bubbles_col_names = [y for y in list(full_data.columns) if 'bubbles' in y]\n",
    "bubbles_col_names = bubbles_col_names + ['childid']\n",
    "bubbles_ds = full_data[bubbles_col_names] # dataframe of all bubbles features\n",
    "appr_col_names = [z for z in list(full_data.columns) if 'list' in z]\n",
    "appr_col_names = appr_col_names + ['childid']\n",
    "appr_ds = full_data[appr_col_names] # dataframe of all approach features \n",
    "speech_ds = speech_ds.set_index('childid')\n",
    "bubbles_ds = bubbles_ds.set_index('childid')\n",
    "appr_ds = appr_ds.set_index('childid')\n",
    "full_data = full_data.set_index('childid')\n",
    "\n",
    "kiddos = pd.read_csv('csv/target_information.csv')\n",
    "kiddos['adhd_count'] = kiddos['adhddxever']>0\n",
    "kiddos.adhd_count = kiddos.adhd_count.replace({True: 1, False: 0})\n",
    "\n",
    "col_names = ['childid','depdxever','anxdxever','adhd_count']\n",
    "kiddos_ds = kiddos[col_names]\n",
    "kiddos_ds = kiddos_ds.set_index('childid')\n",
    "full_speech_ds = pd.concat([speech_ds,kiddos_ds],axis = 1)\n",
    "full_bubbles_ds = pd.concat([bubbles_ds,kiddos_ds],axis = 1) \n",
    "full_appr_ds = pd.concat([appr_ds,kiddos_ds],axis = 1) \n",
    "full_ds = pd.concat([full_data,kiddos_ds],axis = 1) \n",
    "\n",
    "training = full_speech_ds.iloc[:,:-3]\n",
    "# print(list(training))\n",
    "# kiddos\n",
    "# training"
   ]
  },
  {
   "cell_type": "code",
   "execution_count": 6,
   "id": "ddc79186",
   "metadata": {},
   "outputs": [],
   "source": [
    "def oversampling(training:pd.DataFrame, target: pd.DataFrame):\n",
    "    ros = SMOTE()\n",
    "    X_res, y_res = ros.fit_resample(training, target)\n",
    "    X_res_scaled = MinMaxScaler().fit_transform(X_res)\n",
    "    X_res = pd.DataFrame(X_res_scaled,columns = X_res.columns, index = X_res.index)\n",
    "#     print(X_res)\n",
    "    return X_res, y_res\n",
    "\n",
    "def feature_selection(model, X_train: pd.DataFrame, y_train: pd.DataFrame, X_test: pd.DataFrame, num_feats: int, cv: int):\n",
    "    selector = RFECV(model,step = 2, cv = cv, \n",
    "#                      min_features_to_select = num_feats,\n",
    "                     scoring ='accuracy')\n",
    "    selector = selector.fit(X_train, y_train)\n",
    "#     order = selector.ranking_\n",
    "    order = selector.get_feature_names_out(X_train.columns)\n",
    "    dep_feats = []\n",
    "    for i in order:\n",
    "        dep_feats.append(i)\n",
    "    if len(dep_feats) > num_feats:\n",
    "        cols = dep_feats[:num_feats]\n",
    "    else:\n",
    "        cols = dep_feats\n",
    "#     print(cols)\n",
    "    training = X_train[cols]\n",
    "    test = X_test[cols]\n",
    "    return training, test\n",
    "\n",
    "def searchin(mod, cv_grid: dict,X_train: pd.DataFrame, y_train: pd.DataFrame, cv: int):\n",
    "    grid_clf = GridSearchCV(estimator=mod, \n",
    "                                param_grid=cv_grid,\n",
    "                                scoring=\"accuracy\",\n",
    "                                cv=cv,\n",
    "                           )\n",
    "    grid_clf.fit(X_train.values, y_train.values)\n",
    "    best_mod = grid_clf.best_estimator_\n",
    "    best_mod.fit(X_train.values, y_train.values)\n",
    "    if 'SVC' in str(mod):\n",
    "        best_mod = mod.fit(X_train.values, y_train.values)\n",
    "    print(best_mod)\n",
    "    return best_mod\n",
    "\n",
    "def metrics(mod,X_test: pd.DataFrame,y_test: pd.DataFrame, mod_str:str, sx:str):\n",
    "    \n",
    "    mod_sx_str = str(mod_str[:-2]+'_'+sx).lower()\n",
    "    preds = mod.predict(X_test)\n",
    "    probs = mod.predict_proba(X_test)\n",
    "    \n",
    "    acc = accuracy_score(y_true= y_test, y_pred= preds)\n",
    "    print('Accuracy: ', acc)\n",
    "    \n",
    "    roc = roc_auc_score(y_test, probs[:,1]) \n",
    "    print('The ROC AUC: ', roc)\n",
    "    \n",
    "#     try: \n",
    "#         importances = mod.feature_importances_\n",
    "#         for feature, importance in zip(X_test.columns, importances):\n",
    "#             print(feature, importance)\n",
    "#     except AttributeError:\n",
    "#         print()\n",
    "    \n",
    "    try:\n",
    "        estimator = mod.estimators_[1]\n",
    "\n",
    "        export_graphviz(estimator, out_file= mod_sx_str+'.dot', \n",
    "                        feature_names = X_test.columns,\n",
    "                        class_names = ['0','1'],\n",
    "                        rounded = True, proportion = False, \n",
    "                        precision = 2, filled = True)\n",
    "\n",
    "        call(['dot', '-Tpng', mod_sx_str+'.dot', '-o', mod_sx_str+'.png', '-Gdpi=600'])\n",
    "\n",
    "#         Image(filename = mod_sx_str+'.png')\n",
    "        pics = Image.open(mod_sx_str+'.png')\n",
    "        pics = pics.resize((1080,1080),Image.ANTIALIAS)\n",
    "        pics.save('pics/'+mod_sx_str+'.png', optimize=True, quality=95)  \n",
    "\n",
    "    except AttributeError:\n",
    "        print()\n",
    "    fig, ax = plt.subplots(figsize=(8, 5))\n",
    "    cmp = ConfusionMatrixDisplay(\n",
    "            confusion_matrix(y_test, preds),\n",
    "        )\n",
    "\n",
    "    cmp.plot(ax=ax)\n",
    "    plt.show()\n",
    "    return acc, roc"
   ]
  },
  {
   "cell_type": "code",
   "execution_count": 7,
   "id": "37661a3c",
   "metadata": {},
   "outputs": [],
   "source": [
    "def multi_model(training: pd.DataFrame, target: pd.DataFrame, num_feats: int, cv:int, sx:str ):\n",
    "    \n",
    "    training, target = oversampling(training,target)\n",
    "    \n",
    "    X_train , X_test , y_train , y_test = train_test_split(training, target)\n",
    "    acc_nums = []\n",
    "    roc_nums = []\n",
    "    \n",
    "    cv_grid_lg = {\n",
    "                \"penalty\": [\"l2\",'none'], #  'elasticnet','l1']\n",
    "                'max_iter': np.arange(0, 10000,1000),\n",
    "                'solver' : ['sag'], #,'liblinear' , 'saga']\n",
    "            }\n",
    "    cv_grid_rf = { \n",
    "                'n_estimators' : np.arange(50,150,10),\n",
    "                'max_features' : ['log2','sqrt'], #,'auto'],\n",
    "                'criterion' : ['entropy'],\n",
    "                'max_depth': np.arange(1,20,2)\n",
    "                }\n",
    "    cv_grid_et = {\n",
    "                'n_estimators' : np.arange(50,150,10),\n",
    "                'max_features' : ['log2','sqrt'], #,'auto'],\n",
    "                'criterion' : ['entropy'],\n",
    "                'max_depth': np.arange(1,20,2)\n",
    "                }\n",
    "\n",
    "    cv_grid_mlp = {\n",
    "                'hidden_layer_sizes': [(100,2), (100,3), (100,4), (100,5), (100,6)],\n",
    "                'activation' : ['identity', 'logistic', 'tanh'], #, 'relu'],\n",
    "                'solver' : ['sgd'], # adam],\n",
    "                'learning_rate': ['adaptive'], # 'constant', 'invscaling']\n",
    "                'max_iter' : np.arange(200,600,50),\n",
    "                }\n",
    "    cv_grid_svm = {\n",
    "                'kernel' : ['rbf', 'sigmoid'],\n",
    "                'degree' : np.arange(3,300),\n",
    "                }\n",
    "\n",
    "    mod = LogisticRegression()\n",
    "    lr_str = str(mod)\n",
    "    dep_train_lg, dep_test_lg = feature_selection(mod,X_train,y_train,X_test,num_feats,cv)\n",
    "    model = searchin(mod,cv_grid_lg,dep_train_lg,y_train,cv)\n",
    "    lg_acc, lg_roc = metrics(model,dep_test_lg, y_test, lr_str, sx)\n",
    "    acc_nums.append(lg_acc)\n",
    "    roc_nums.append(lg_roc)\n",
    "    \n",
    "    mod = RandomForestClassifier()\n",
    "    rf_str = str(mod)\n",
    "    dep_train_rf, dep_test_rf = feature_selection(mod,X_train,y_train,X_test,num_feats,cv)\n",
    "    model = searchin(mod,cv_grid_rf,dep_train_rf,y_train,cv)\n",
    "    rf_acc, rf_roc = metrics(model,dep_test_rf,y_test, rf_str,sx)\n",
    "    acc_nums.append(rf_acc)\n",
    "    roc_nums.append(rf_roc)\n",
    "    \n",
    "    mod = ExtraTreesClassifier()\n",
    "    et_str = str(mod)\n",
    "    dep_train_et, dep_test_et = feature_selection(mod,X_train,y_train,X_test,num_feats,cv)\n",
    "    model = searchin(mod,cv_grid_et,dep_train_et,y_train,cv)\n",
    "    et_acc, et_roc = metrics(model,dep_test_et, y_test, et_str, sx)\n",
    "    acc_nums.append(et_acc)\n",
    "    roc_nums.append(et_roc)\n",
    "    \n",
    "    mod = MLPClassifier(early_stopping = True)\n",
    "    mlp_str = str(mod)\n",
    "    # dep_train_nn, dep_test_nn = feature_selection(mod,X_train,y_train,X_test,30)\n",
    "    model = searchin(mod,cv_grid_mlp,X_train,y_train,cv)\n",
    "    nn_acc, nn_roc = metrics(model,X_test, y_test, mlp_str, sx)\n",
    "    acc_nums.append(nn_acc)\n",
    "    roc_nums.append(nn_roc)\n",
    "\n",
    "    mod = SVC(probability = True)\n",
    "    svm_str = str(mod)\n",
    "#     dep_train_svm, dep_test_svm = feature_selection(mod,X_train,y_train,X_test,num_feats,cv)\n",
    "    model = searchin(mod,cv_grid_svm,X_train,y_train,cv)\n",
    "    svm_acc, svm_roc = metrics(mod,X_test, y_test,svm_str, sx)\n",
    "    acc_nums.append(svm_acc)\n",
    "    roc_nums.append(svm_roc)\n",
    "    \n",
    "    data = {sx+'_model_acc': acc_nums,\n",
    "            sx+'_roc_auc': roc_nums}\n",
    "    \n",
    "    results = pd.DataFrame(index = ['logistic', 'random forest', 'extra trees', 'MLP NN', 'SVM'], data = data)\n",
    "    \n",
    "    return results"
   ]
  },
  {
   "cell_type": "code",
   "execution_count": 8,
   "id": "478953fd",
   "metadata": {
    "scrolled": true
   },
   "outputs": [
    {
     "name": "stderr",
     "output_type": "stream",
     "text": [
      "C:\\Users\\ontiv\\anaconda3\\lib\\site-packages\\sklearn\\linear_model\\_sag.py:352: ConvergenceWarning: The max_iter was reached which means the coef_ did not converge\n",
      "  warnings.warn(\n",
      "C:\\Users\\ontiv\\anaconda3\\lib\\site-packages\\sklearn\\linear_model\\_sag.py:352: ConvergenceWarning: The max_iter was reached which means the coef_ did not converge\n",
      "  warnings.warn(\n",
      "C:\\Users\\ontiv\\anaconda3\\lib\\site-packages\\sklearn\\linear_model\\_sag.py:352: ConvergenceWarning: The max_iter was reached which means the coef_ did not converge\n",
      "  warnings.warn(\n",
      "C:\\Users\\ontiv\\anaconda3\\lib\\site-packages\\sklearn\\linear_model\\_sag.py:352: ConvergenceWarning: The max_iter was reached which means the coef_ did not converge\n",
      "  warnings.warn(\n",
      "C:\\Users\\ontiv\\anaconda3\\lib\\site-packages\\sklearn\\linear_model\\_sag.py:352: ConvergenceWarning: The max_iter was reached which means the coef_ did not converge\n",
      "  warnings.warn(\n",
      "C:\\Users\\ontiv\\anaconda3\\lib\\site-packages\\sklearn\\linear_model\\_sag.py:352: ConvergenceWarning: The max_iter was reached which means the coef_ did not converge\n",
      "  warnings.warn(\n",
      "C:\\Users\\ontiv\\anaconda3\\lib\\site-packages\\sklearn\\linear_model\\_sag.py:352: ConvergenceWarning: The max_iter was reached which means the coef_ did not converge\n",
      "  warnings.warn(\n",
      "C:\\Users\\ontiv\\anaconda3\\lib\\site-packages\\sklearn\\linear_model\\_sag.py:352: ConvergenceWarning: The max_iter was reached which means the coef_ did not converge\n",
      "  warnings.warn(\n",
      "C:\\Users\\ontiv\\anaconda3\\lib\\site-packages\\sklearn\\linear_model\\_sag.py:352: ConvergenceWarning: The max_iter was reached which means the coef_ did not converge\n",
      "  warnings.warn(\n",
      "C:\\Users\\ontiv\\anaconda3\\lib\\site-packages\\sklearn\\linear_model\\_sag.py:352: ConvergenceWarning: The max_iter was reached which means the coef_ did not converge\n",
      "  warnings.warn(\n",
      "C:\\Users\\ontiv\\anaconda3\\lib\\site-packages\\sklearn\\linear_model\\_sag.py:352: ConvergenceWarning: The max_iter was reached which means the coef_ did not converge\n",
      "  warnings.warn(\n",
      "C:\\Users\\ontiv\\anaconda3\\lib\\site-packages\\sklearn\\linear_model\\_sag.py:352: ConvergenceWarning: The max_iter was reached which means the coef_ did not converge\n",
      "  warnings.warn(\n",
      "C:\\Users\\ontiv\\anaconda3\\lib\\site-packages\\sklearn\\linear_model\\_sag.py:352: ConvergenceWarning: The max_iter was reached which means the coef_ did not converge\n",
      "  warnings.warn(\n",
      "C:\\Users\\ontiv\\anaconda3\\lib\\site-packages\\sklearn\\linear_model\\_sag.py:352: ConvergenceWarning: The max_iter was reached which means the coef_ did not converge\n",
      "  warnings.warn(\n",
      "C:\\Users\\ontiv\\anaconda3\\lib\\site-packages\\sklearn\\linear_model\\_sag.py:352: ConvergenceWarning: The max_iter was reached which means the coef_ did not converge\n",
      "  warnings.warn(\n",
      "C:\\Users\\ontiv\\anaconda3\\lib\\site-packages\\sklearn\\linear_model\\_sag.py:352: ConvergenceWarning: The max_iter was reached which means the coef_ did not converge\n",
      "  warnings.warn(\n",
      "C:\\Users\\ontiv\\anaconda3\\lib\\site-packages\\sklearn\\linear_model\\_sag.py:352: ConvergenceWarning: The max_iter was reached which means the coef_ did not converge\n",
      "  warnings.warn(\n",
      "C:\\Users\\ontiv\\anaconda3\\lib\\site-packages\\sklearn\\linear_model\\_sag.py:352: ConvergenceWarning: The max_iter was reached which means the coef_ did not converge\n",
      "  warnings.warn(\n",
      "C:\\Users\\ontiv\\anaconda3\\lib\\site-packages\\sklearn\\linear_model\\_sag.py:352: ConvergenceWarning: The max_iter was reached which means the coef_ did not converge\n",
      "  warnings.warn(\n",
      "C:\\Users\\ontiv\\anaconda3\\lib\\site-packages\\sklearn\\linear_model\\_sag.py:352: ConvergenceWarning: The max_iter was reached which means the coef_ did not converge\n",
      "  warnings.warn(\n",
      "C:\\Users\\ontiv\\anaconda3\\lib\\site-packages\\sklearn\\linear_model\\_sag.py:352: ConvergenceWarning: The max_iter was reached which means the coef_ did not converge\n",
      "  warnings.warn(\n",
      "C:\\Users\\ontiv\\anaconda3\\lib\\site-packages\\sklearn\\linear_model\\_sag.py:352: ConvergenceWarning: The max_iter was reached which means the coef_ did not converge\n",
      "  warnings.warn(\n",
      "C:\\Users\\ontiv\\anaconda3\\lib\\site-packages\\sklearn\\linear_model\\_sag.py:352: ConvergenceWarning: The max_iter was reached which means the coef_ did not converge\n",
      "  warnings.warn(\n",
      "C:\\Users\\ontiv\\anaconda3\\lib\\site-packages\\sklearn\\linear_model\\_sag.py:352: ConvergenceWarning: The max_iter was reached which means the coef_ did not converge\n",
      "  warnings.warn(\n",
      "C:\\Users\\ontiv\\anaconda3\\lib\\site-packages\\sklearn\\linear_model\\_sag.py:352: ConvergenceWarning: The max_iter was reached which means the coef_ did not converge\n",
      "  warnings.warn(\n",
      "C:\\Users\\ontiv\\anaconda3\\lib\\site-packages\\sklearn\\linear_model\\_sag.py:352: ConvergenceWarning: The max_iter was reached which means the coef_ did not converge\n",
      "  warnings.warn(\n",
      "C:\\Users\\ontiv\\anaconda3\\lib\\site-packages\\sklearn\\linear_model\\_sag.py:352: ConvergenceWarning: The max_iter was reached which means the coef_ did not converge\n",
      "  warnings.warn(\n",
      "C:\\Users\\ontiv\\anaconda3\\lib\\site-packages\\sklearn\\linear_model\\_sag.py:352: ConvergenceWarning: The max_iter was reached which means the coef_ did not converge\n",
      "  warnings.warn(\n",
      "C:\\Users\\ontiv\\anaconda3\\lib\\site-packages\\sklearn\\linear_model\\_sag.py:352: ConvergenceWarning: The max_iter was reached which means the coef_ did not converge\n",
      "  warnings.warn(\n",
      "C:\\Users\\ontiv\\anaconda3\\lib\\site-packages\\sklearn\\linear_model\\_sag.py:352: ConvergenceWarning: The max_iter was reached which means the coef_ did not converge\n",
      "  warnings.warn(\n",
      "C:\\Users\\ontiv\\anaconda3\\lib\\site-packages\\sklearn\\linear_model\\_sag.py:352: ConvergenceWarning: The max_iter was reached which means the coef_ did not converge\n",
      "  warnings.warn(\n",
      "C:\\Users\\ontiv\\anaconda3\\lib\\site-packages\\sklearn\\linear_model\\_sag.py:352: ConvergenceWarning: The max_iter was reached which means the coef_ did not converge\n",
      "  warnings.warn(\n",
      "C:\\Users\\ontiv\\anaconda3\\lib\\site-packages\\sklearn\\linear_model\\_sag.py:352: ConvergenceWarning: The max_iter was reached which means the coef_ did not converge\n",
      "  warnings.warn(\n",
      "C:\\Users\\ontiv\\anaconda3\\lib\\site-packages\\sklearn\\linear_model\\_sag.py:352: ConvergenceWarning: The max_iter was reached which means the coef_ did not converge\n",
      "  warnings.warn(\n",
      "C:\\Users\\ontiv\\anaconda3\\lib\\site-packages\\sklearn\\linear_model\\_sag.py:352: ConvergenceWarning: The max_iter was reached which means the coef_ did not converge\n",
      "  warnings.warn(\n",
      "C:\\Users\\ontiv\\anaconda3\\lib\\site-packages\\sklearn\\linear_model\\_sag.py:352: ConvergenceWarning: The max_iter was reached which means the coef_ did not converge\n",
      "  warnings.warn(\n",
      "C:\\Users\\ontiv\\anaconda3\\lib\\site-packages\\sklearn\\linear_model\\_sag.py:352: ConvergenceWarning: The max_iter was reached which means the coef_ did not converge\n",
      "  warnings.warn(\n",
      "C:\\Users\\ontiv\\anaconda3\\lib\\site-packages\\sklearn\\linear_model\\_sag.py:352: ConvergenceWarning: The max_iter was reached which means the coef_ did not converge\n",
      "  warnings.warn(\n"
     ]
    },
    {
     "name": "stdout",
     "output_type": "stream",
     "text": [
      "LogisticRegression(max_iter=1000, solver='sag')\n",
      "Accuracy:  0.8378378378378378\n",
      "The ROC AUC:  0.8447204968944099\n",
      "\n"
     ]
    },
    {
     "name": "stderr",
     "output_type": "stream",
     "text": [
      "C:\\Users\\ontiv\\anaconda3\\lib\\site-packages\\sklearn\\base.py:443: UserWarning: X has feature names, but LogisticRegression was fitted without feature names\n",
      "  warnings.warn(\n",
      "C:\\Users\\ontiv\\anaconda3\\lib\\site-packages\\sklearn\\base.py:443: UserWarning: X has feature names, but LogisticRegression was fitted without feature names\n",
      "  warnings.warn(\n"
     ]
    },
    {
     "data": {
      "image/png": "[encoded data removed]",
      "text/plain": [
       "<Figure size 576x360 with 2 Axes>"
      ]
     },
     "metadata": {
      "needs_background": "light"
     },
     "output_type": "display_data"
    },
    {
     "name": "stdout",
     "output_type": "stream",
     "text": [
      "RandomForestClassifier(criterion='entropy', max_depth=9, max_features='log2',\n",
      "                       n_estimators=80)\n",
      "Accuracy:  0.9459459459459459\n",
      "The ROC AUC:  0.9922360248447205\n"
     ]
    },
    {
     "name": "stderr",
     "output_type": "stream",
     "text": [
      "C:\\Users\\ontiv\\anaconda3\\lib\\site-packages\\sklearn\\base.py:443: UserWarning: X has feature names, but RandomForestClassifier was fitted without feature names\n",
      "  warnings.warn(\n",
      "C:\\Users\\ontiv\\anaconda3\\lib\\site-packages\\sklearn\\base.py:443: UserWarning: X has feature names, but RandomForestClassifier was fitted without feature names\n",
      "  warnings.warn(\n"
     ]
    },
    {
     "data": {
      "image/png": "[encoded data removed]",
      "text/plain": [
       "<Figure size 576x360 with 2 Axes>"
      ]
     },
     "metadata": {
      "needs_background": "light"
     },
     "output_type": "display_data"
    },
    {
     "name": "stdout",
     "output_type": "stream",
     "text": [
      "ExtraTreesClassifier(criterion='entropy', max_depth=9, max_features='sqrt',\n",
      "                     n_estimators=110)\n",
      "Accuracy:  0.9459459459459459\n",
      "The ROC AUC:  1.0\n"
     ]
    },
    {
     "name": "stderr",
     "output_type": "stream",
     "text": [
      "C:\\Users\\ontiv\\anaconda3\\lib\\site-packages\\sklearn\\base.py:443: UserWarning: X has feature names, but ExtraTreesClassifier was fitted without feature names\n",
      "  warnings.warn(\n",
      "C:\\Users\\ontiv\\anaconda3\\lib\\site-packages\\sklearn\\base.py:443: UserWarning: X has feature names, but ExtraTreesClassifier was fitted without feature names\n",
      "  warnings.warn(\n"
     ]
    },
    {
     "data": {
      "image/png": "[encoded data removed]",
      "text/plain": [
       "<Figure size 576x360 with 2 Axes>"
      ]
     },
     "metadata": {
      "needs_background": "light"
     },
     "output_type": "display_data"
    },
    {
     "name": "stdout",
     "output_type": "stream",
     "text": [
      "MLPClassifier(activation='identity', early_stopping=True,\n",
      "              hidden_layer_sizes=(100, 6), learning_rate='adaptive',\n",
      "              solver='sgd')\n",
      "Accuracy:  0.43243243243243246\n",
      "The ROC AUC:  0.5683229813664596\n",
      "\n"
     ]
    },
    {
     "name": "stderr",
     "output_type": "stream",
     "text": [
      "C:\\Users\\ontiv\\anaconda3\\lib\\site-packages\\sklearn\\base.py:443: UserWarning: X has feature names, but MLPClassifier was fitted without feature names\n",
      "  warnings.warn(\n",
      "C:\\Users\\ontiv\\anaconda3\\lib\\site-packages\\sklearn\\base.py:443: UserWarning: X has feature names, but MLPClassifier was fitted without feature names\n",
      "  warnings.warn(\n"
     ]
    },
    {
     "data": {
      "image/png": "[encoded data removed]",
      "text/plain": [
       "<Figure size 576x360 with 2 Axes>"
      ]
     },
     "metadata": {
      "needs_background": "light"
     },
     "output_type": "display_data"
    },
    {
     "name": "stdout",
     "output_type": "stream",
     "text": [
      "SVC(probability=True)\n",
      "Accuracy:  0.8378378378378378\n",
      "The ROC AUC:  0.9130434782608696\n",
      "\n"
     ]
    },
    {
     "name": "stderr",
     "output_type": "stream",
     "text": [
      "C:\\Users\\ontiv\\anaconda3\\lib\\site-packages\\sklearn\\base.py:443: UserWarning: X has feature names, but SVC was fitted without feature names\n",
      "  warnings.warn(\n",
      "C:\\Users\\ontiv\\anaconda3\\lib\\site-packages\\sklearn\\base.py:443: UserWarning: X has feature names, but SVC was fitted without feature names\n",
      "  warnings.warn(\n"
     ]
    },
    {
     "data": {
      "image/png": "[encoded data removed]",
      "text/plain": [
       "<Figure size 576x360 with 2 Axes>"
      ]
     },
     "metadata": {
      "needs_background": "light"
     },
     "output_type": "display_data"
    },
    {
     "name": "stderr",
     "output_type": "stream",
     "text": [
      "C:\\Users\\ontiv\\anaconda3\\lib\\site-packages\\sklearn\\linear_model\\_sag.py:352: ConvergenceWarning: The max_iter was reached which means the coef_ did not converge\n",
      "  warnings.warn(\n",
      "C:\\Users\\ontiv\\anaconda3\\lib\\site-packages\\sklearn\\linear_model\\_sag.py:352: ConvergenceWarning: The max_iter was reached which means the coef_ did not converge\n",
      "  warnings.warn(\n",
      "C:\\Users\\ontiv\\anaconda3\\lib\\site-packages\\sklearn\\linear_model\\_sag.py:352: ConvergenceWarning: The max_iter was reached which means the coef_ did not converge\n",
      "  warnings.warn(\n",
      "C:\\Users\\ontiv\\anaconda3\\lib\\site-packages\\sklearn\\linear_model\\_sag.py:352: ConvergenceWarning: The max_iter was reached which means the coef_ did not converge\n",
      "  warnings.warn(\n",
      "C:\\Users\\ontiv\\anaconda3\\lib\\site-packages\\sklearn\\linear_model\\_sag.py:352: ConvergenceWarning: The max_iter was reached which means the coef_ did not converge\n",
      "  warnings.warn(\n",
      "C:\\Users\\ontiv\\anaconda3\\lib\\site-packages\\sklearn\\linear_model\\_sag.py:352: ConvergenceWarning: The max_iter was reached which means the coef_ did not converge\n",
      "  warnings.warn(\n",
      "C:\\Users\\ontiv\\anaconda3\\lib\\site-packages\\sklearn\\linear_model\\_sag.py:352: ConvergenceWarning: The max_iter was reached which means the coef_ did not converge\n",
      "  warnings.warn(\n",
      "C:\\Users\\ontiv\\anaconda3\\lib\\site-packages\\sklearn\\linear_model\\_sag.py:352: ConvergenceWarning: The max_iter was reached which means the coef_ did not converge\n",
      "  warnings.warn(\n",
      "C:\\Users\\ontiv\\anaconda3\\lib\\site-packages\\sklearn\\linear_model\\_sag.py:352: ConvergenceWarning: The max_iter was reached which means the coef_ did not converge\n",
      "  warnings.warn(\n",
      "C:\\Users\\ontiv\\anaconda3\\lib\\site-packages\\sklearn\\linear_model\\_sag.py:352: ConvergenceWarning: The max_iter was reached which means the coef_ did not converge\n",
      "  warnings.warn(\n",
      "C:\\Users\\ontiv\\anaconda3\\lib\\site-packages\\sklearn\\linear_model\\_sag.py:352: ConvergenceWarning: The max_iter was reached which means the coef_ did not converge\n",
      "  warnings.warn(\n",
      "C:\\Users\\ontiv\\anaconda3\\lib\\site-packages\\sklearn\\linear_model\\_sag.py:352: ConvergenceWarning: The max_iter was reached which means the coef_ did not converge\n",
      "  warnings.warn(\n",
      "C:\\Users\\ontiv\\anaconda3\\lib\\site-packages\\sklearn\\linear_model\\_sag.py:352: ConvergenceWarning: The max_iter was reached which means the coef_ did not converge\n",
      "  warnings.warn(\n",
      "C:\\Users\\ontiv\\anaconda3\\lib\\site-packages\\sklearn\\linear_model\\_sag.py:352: ConvergenceWarning: The max_iter was reached which means the coef_ did not converge\n",
      "  warnings.warn(\n",
      "C:\\Users\\ontiv\\anaconda3\\lib\\site-packages\\sklearn\\linear_model\\_sag.py:352: ConvergenceWarning: The max_iter was reached which means the coef_ did not converge\n",
      "  warnings.warn(\n",
      "C:\\Users\\ontiv\\anaconda3\\lib\\site-packages\\sklearn\\linear_model\\_sag.py:352: ConvergenceWarning: The max_iter was reached which means the coef_ did not converge\n",
      "  warnings.warn(\n"
     ]
    },
    {
     "name": "stdout",
     "output_type": "stream",
     "text": [
      "LogisticRegression(max_iter=1000, solver='sag')\n",
      "Accuracy:  0.6296296296296297\n",
      "The ROC AUC:  0.5611111111111111\n",
      "\n"
     ]
    },
    {
     "name": "stderr",
     "output_type": "stream",
     "text": [
      "C:\\Users\\ontiv\\anaconda3\\lib\\site-packages\\sklearn\\base.py:443: UserWarning: X has feature names, but LogisticRegression was fitted without feature names\n",
      "  warnings.warn(\n",
      "C:\\Users\\ontiv\\anaconda3\\lib\\site-packages\\sklearn\\base.py:443: UserWarning: X has feature names, but LogisticRegression was fitted without feature names\n",
      "  warnings.warn(\n"
     ]
    },
    {
     "data": {
      "image/png": "[encoded data removed]",
      "text/plain": [
       "<Figure size 576x360 with 2 Axes>"
      ]
     },
     "metadata": {
      "needs_background": "light"
     },
     "output_type": "display_data"
    },
    {
     "name": "stdout",
     "output_type": "stream",
     "text": [
      "RandomForestClassifier(criterion='entropy', max_depth=15, max_features='sqrt',\n",
      "                       n_estimators=50)\n",
      "Accuracy:  0.5555555555555556\n",
      "The ROC AUC:  0.6444444444444444\n"
     ]
    },
    {
     "name": "stderr",
     "output_type": "stream",
     "text": [
      "C:\\Users\\ontiv\\anaconda3\\lib\\site-packages\\sklearn\\base.py:443: UserWarning: X has feature names, but RandomForestClassifier was fitted without feature names\n",
      "  warnings.warn(\n",
      "C:\\Users\\ontiv\\anaconda3\\lib\\site-packages\\sklearn\\base.py:443: UserWarning: X has feature names, but RandomForestClassifier was fitted without feature names\n",
      "  warnings.warn(\n"
     ]
    },
    {
     "data": {
      "image/png": "[encoded data removed]",
      "text/plain": [
       "<Figure size 576x360 with 2 Axes>"
      ]
     },
     "metadata": {
      "needs_background": "light"
     },
     "output_type": "display_data"
    },
    {
     "name": "stdout",
     "output_type": "stream",
     "text": [
      "ExtraTreesClassifier(criterion='entropy', max_depth=13, max_features='log2',\n",
      "                     n_estimators=90)\n",
      "Accuracy:  0.5555555555555556\n",
      "The ROC AUC:  0.7166666666666667\n"
     ]
    },
    {
     "name": "stderr",
     "output_type": "stream",
     "text": [
      "C:\\Users\\ontiv\\anaconda3\\lib\\site-packages\\sklearn\\base.py:443: UserWarning: X has feature names, but ExtraTreesClassifier was fitted without feature names\n",
      "  warnings.warn(\n",
      "C:\\Users\\ontiv\\anaconda3\\lib\\site-packages\\sklearn\\base.py:443: UserWarning: X has feature names, but ExtraTreesClassifier was fitted without feature names\n",
      "  warnings.warn(\n"
     ]
    },
    {
     "data": {
      "image/png": "[encoded data removed]",
      "text/plain": [
       "<Figure size 576x360 with 2 Axes>"
      ]
     },
     "metadata": {
      "needs_background": "light"
     },
     "output_type": "display_data"
    },
    {
     "name": "stdout",
     "output_type": "stream",
     "text": [
      "MLPClassifier(activation='identity', early_stopping=True,\n",
      "              hidden_layer_sizes=(100, 3), learning_rate='adaptive',\n",
      "              max_iter=450, solver='sgd')\n",
      "Accuracy:  0.4444444444444444\n",
      "The ROC AUC:  0.65\n",
      "\n"
     ]
    },
    {
     "name": "stderr",
     "output_type": "stream",
     "text": [
      "C:\\Users\\ontiv\\anaconda3\\lib\\site-packages\\sklearn\\base.py:443: UserWarning: X has feature names, but MLPClassifier was fitted without feature names\n",
      "  warnings.warn(\n",
      "C:\\Users\\ontiv\\anaconda3\\lib\\site-packages\\sklearn\\base.py:443: UserWarning: X has feature names, but MLPClassifier was fitted without feature names\n",
      "  warnings.warn(\n"
     ]
    },
    {
     "data": {
      "image/png": "[encoded data removed]",
      "text/plain": [
       "<Figure size 576x360 with 2 Axes>"
      ]
     },
     "metadata": {
      "needs_background": "light"
     },
     "output_type": "display_data"
    },
    {
     "name": "stdout",
     "output_type": "stream",
     "text": [
      "SVC(probability=True)\n",
      "Accuracy:  0.7037037037037037\n",
      "The ROC AUC:  0.7694444444444444\n",
      "\n"
     ]
    },
    {
     "name": "stderr",
     "output_type": "stream",
     "text": [
      "C:\\Users\\ontiv\\anaconda3\\lib\\site-packages\\sklearn\\base.py:443: UserWarning: X has feature names, but SVC was fitted without feature names\n",
      "  warnings.warn(\n",
      "C:\\Users\\ontiv\\anaconda3\\lib\\site-packages\\sklearn\\base.py:443: UserWarning: X has feature names, but SVC was fitted without feature names\n",
      "  warnings.warn(\n"
     ]
    },
    {
     "data": {
      "image/png": "[encoded data removed]",
      "text/plain": [
       "<Figure size 576x360 with 2 Axes>"
      ]
     },
     "metadata": {
      "needs_background": "light"
     },
     "output_type": "display_data"
    },
    {
     "name": "stderr",
     "output_type": "stream",
     "text": [
      "C:\\Users\\ontiv\\anaconda3\\lib\\site-packages\\sklearn\\linear_model\\_sag.py:352: ConvergenceWarning: The max_iter was reached which means the coef_ did not converge\n",
      "  warnings.warn(\n",
      "C:\\Users\\ontiv\\anaconda3\\lib\\site-packages\\sklearn\\linear_model\\_sag.py:352: ConvergenceWarning: The max_iter was reached which means the coef_ did not converge\n",
      "  warnings.warn(\n",
      "C:\\Users\\ontiv\\anaconda3\\lib\\site-packages\\sklearn\\linear_model\\_sag.py:352: ConvergenceWarning: The max_iter was reached which means the coef_ did not converge\n",
      "  warnings.warn(\n",
      "C:\\Users\\ontiv\\anaconda3\\lib\\site-packages\\sklearn\\linear_model\\_sag.py:352: ConvergenceWarning: The max_iter was reached which means the coef_ did not converge\n",
      "  warnings.warn(\n",
      "C:\\Users\\ontiv\\anaconda3\\lib\\site-packages\\sklearn\\linear_model\\_sag.py:352: ConvergenceWarning: The max_iter was reached which means the coef_ did not converge\n",
      "  warnings.warn(\n",
      "C:\\Users\\ontiv\\anaconda3\\lib\\site-packages\\sklearn\\linear_model\\_sag.py:352: ConvergenceWarning: The max_iter was reached which means the coef_ did not converge\n",
      "  warnings.warn(\n",
      "C:\\Users\\ontiv\\anaconda3\\lib\\site-packages\\sklearn\\linear_model\\_sag.py:352: ConvergenceWarning: The max_iter was reached which means the coef_ did not converge\n",
      "  warnings.warn(\n",
      "C:\\Users\\ontiv\\anaconda3\\lib\\site-packages\\sklearn\\linear_model\\_sag.py:352: ConvergenceWarning: The max_iter was reached which means the coef_ did not converge\n",
      "  warnings.warn(\n",
      "C:\\Users\\ontiv\\anaconda3\\lib\\site-packages\\sklearn\\linear_model\\_sag.py:352: ConvergenceWarning: The max_iter was reached which means the coef_ did not converge\n",
      "  warnings.warn(\n",
      "C:\\Users\\ontiv\\anaconda3\\lib\\site-packages\\sklearn\\linear_model\\_sag.py:352: ConvergenceWarning: The max_iter was reached which means the coef_ did not converge\n",
      "  warnings.warn(\n",
      "C:\\Users\\ontiv\\anaconda3\\lib\\site-packages\\sklearn\\linear_model\\_sag.py:352: ConvergenceWarning: The max_iter was reached which means the coef_ did not converge\n",
      "  warnings.warn(\n",
      "C:\\Users\\ontiv\\anaconda3\\lib\\site-packages\\sklearn\\linear_model\\_sag.py:352: ConvergenceWarning: The max_iter was reached which means the coef_ did not converge\n",
      "  warnings.warn(\n",
      "C:\\Users\\ontiv\\anaconda3\\lib\\site-packages\\sklearn\\linear_model\\_sag.py:352: ConvergenceWarning: The max_iter was reached which means the coef_ did not converge\n",
      "  warnings.warn(\n",
      "C:\\Users\\ontiv\\anaconda3\\lib\\site-packages\\sklearn\\linear_model\\_sag.py:352: ConvergenceWarning: The max_iter was reached which means the coef_ did not converge\n",
      "  warnings.warn(\n",
      "C:\\Users\\ontiv\\anaconda3\\lib\\site-packages\\sklearn\\linear_model\\_sag.py:352: ConvergenceWarning: The max_iter was reached which means the coef_ did not converge\n",
      "  warnings.warn(\n",
      "C:\\Users\\ontiv\\anaconda3\\lib\\site-packages\\sklearn\\linear_model\\_sag.py:352: ConvergenceWarning: The max_iter was reached which means the coef_ did not converge\n",
      "  warnings.warn(\n",
      "C:\\Users\\ontiv\\anaconda3\\lib\\site-packages\\sklearn\\linear_model\\_sag.py:352: ConvergenceWarning: The max_iter was reached which means the coef_ did not converge\n",
      "  warnings.warn(\n",
      "C:\\Users\\ontiv\\anaconda3\\lib\\site-packages\\sklearn\\linear_model\\_sag.py:352: ConvergenceWarning: The max_iter was reached which means the coef_ did not converge\n",
      "  warnings.warn(\n",
      "C:\\Users\\ontiv\\anaconda3\\lib\\site-packages\\sklearn\\linear_model\\_sag.py:352: ConvergenceWarning: The max_iter was reached which means the coef_ did not converge\n",
      "  warnings.warn(\n",
      "C:\\Users\\ontiv\\anaconda3\\lib\\site-packages\\sklearn\\linear_model\\_sag.py:352: ConvergenceWarning: The max_iter was reached which means the coef_ did not converge\n",
      "  warnings.warn(\n",
      "C:\\Users\\ontiv\\anaconda3\\lib\\site-packages\\sklearn\\linear_model\\_sag.py:352: ConvergenceWarning: The max_iter was reached which means the coef_ did not converge\n",
      "  warnings.warn(\n",
      "C:\\Users\\ontiv\\anaconda3\\lib\\site-packages\\sklearn\\linear_model\\_sag.py:352: ConvergenceWarning: The max_iter was reached which means the coef_ did not converge\n",
      "  warnings.warn(\n",
      "C:\\Users\\ontiv\\anaconda3\\lib\\site-packages\\sklearn\\linear_model\\_sag.py:352: ConvergenceWarning: The max_iter was reached which means the coef_ did not converge\n",
      "  warnings.warn(\n",
      "C:\\Users\\ontiv\\anaconda3\\lib\\site-packages\\sklearn\\linear_model\\_sag.py:352: ConvergenceWarning: The max_iter was reached which means the coef_ did not converge\n",
      "  warnings.warn(\n"
     ]
    },
    {
     "name": "stdout",
     "output_type": "stream",
     "text": [
      "LogisticRegression(max_iter=1000, penalty='none', solver='sag')\n",
      "Accuracy:  0.9117647058823529\n",
      "The ROC AUC:  0.8512110726643598\n",
      "\n"
     ]
    },
    {
     "name": "stderr",
     "output_type": "stream",
     "text": [
      "C:\\Users\\ontiv\\anaconda3\\lib\\site-packages\\sklearn\\linear_model\\_sag.py:352: ConvergenceWarning: The max_iter was reached which means the coef_ did not converge\n",
      "  warnings.warn(\n",
      "C:\\Users\\ontiv\\anaconda3\\lib\\site-packages\\sklearn\\linear_model\\_sag.py:352: ConvergenceWarning: The max_iter was reached which means the coef_ did not converge\n",
      "  warnings.warn(\n",
      "C:\\Users\\ontiv\\anaconda3\\lib\\site-packages\\sklearn\\base.py:443: UserWarning: X has feature names, but LogisticRegression was fitted without feature names\n",
      "  warnings.warn(\n",
      "C:\\Users\\ontiv\\anaconda3\\lib\\site-packages\\sklearn\\base.py:443: UserWarning: X has feature names, but LogisticRegression was fitted without feature names\n",
      "  warnings.warn(\n"
     ]
    },
    {
     "data": {
      "image/png": "[encoded data removed]",
      "text/plain": [
       "<Figure size 576x360 with 2 Axes>"
      ]
     },
     "metadata": {
      "needs_background": "light"
     },
     "output_type": "display_data"
    },
    {
     "name": "stdout",
     "output_type": "stream",
     "text": [
      "RandomForestClassifier(criterion='entropy', max_depth=15, max_features='log2',\n",
      "                       n_estimators=110)\n",
      "Accuracy:  0.9411764705882353\n",
      "The ROC AUC:  1.0\n"
     ]
    },
    {
     "name": "stderr",
     "output_type": "stream",
     "text": [
      "C:\\Users\\ontiv\\anaconda3\\lib\\site-packages\\sklearn\\base.py:443: UserWarning: X has feature names, but RandomForestClassifier was fitted without feature names\n",
      "  warnings.warn(\n",
      "C:\\Users\\ontiv\\anaconda3\\lib\\site-packages\\sklearn\\base.py:443: UserWarning: X has feature names, but RandomForestClassifier was fitted without feature names\n",
      "  warnings.warn(\n"
     ]
    },
    {
     "data": {
      "image/png": "[encoded data removed]",
      "text/plain": [
       "<Figure size 576x360 with 2 Axes>"
      ]
     },
     "metadata": {
      "needs_background": "light"
     },
     "output_type": "display_data"
    },
    {
     "name": "stdout",
     "output_type": "stream",
     "text": [
      "ExtraTreesClassifier(criterion='entropy', max_depth=13, max_features='sqrt',\n",
      "                     n_estimators=50)\n",
      "Accuracy:  1.0\n",
      "The ROC AUC:  1.0\n"
     ]
    },
    {
     "name": "stderr",
     "output_type": "stream",
     "text": [
      "C:\\Users\\ontiv\\anaconda3\\lib\\site-packages\\sklearn\\base.py:443: UserWarning: X has feature names, but ExtraTreesClassifier was fitted without feature names\n",
      "  warnings.warn(\n",
      "C:\\Users\\ontiv\\anaconda3\\lib\\site-packages\\sklearn\\base.py:443: UserWarning: X has feature names, but ExtraTreesClassifier was fitted without feature names\n",
      "  warnings.warn(\n"
     ]
    },
    {
     "data": {
      "image/png": "[encoded data removed]",
      "text/plain": [
       "<Figure size 576x360 with 2 Axes>"
      ]
     },
     "metadata": {
      "needs_background": "light"
     },
     "output_type": "display_data"
    },
    {
     "name": "stdout",
     "output_type": "stream",
     "text": [
      "MLPClassifier(activation='identity', early_stopping=True,\n",
      "              hidden_layer_sizes=(100, 4), learning_rate='adaptive',\n",
      "              max_iter=550, solver='sgd')\n",
      "Accuracy:  0.5\n",
      "The ROC AUC:  0.3079584775086506\n",
      "\n"
     ]
    },
    {
     "name": "stderr",
     "output_type": "stream",
     "text": [
      "C:\\Users\\ontiv\\anaconda3\\lib\\site-packages\\sklearn\\base.py:443: UserWarning: X has feature names, but MLPClassifier was fitted without feature names\n",
      "  warnings.warn(\n",
      "C:\\Users\\ontiv\\anaconda3\\lib\\site-packages\\sklearn\\base.py:443: UserWarning: X has feature names, but MLPClassifier was fitted without feature names\n",
      "  warnings.warn(\n"
     ]
    },
    {
     "data": {
      "image/png": "[encoded data removed]",
      "text/plain": [
       "<Figure size 576x360 with 2 Axes>"
      ]
     },
     "metadata": {
      "needs_background": "light"
     },
     "output_type": "display_data"
    },
    {
     "name": "stdout",
     "output_type": "stream",
     "text": [
      "SVC(probability=True)\n",
      "Accuracy:  0.9705882352941176\n",
      "The ROC AUC:  1.0\n",
      "\n"
     ]
    },
    {
     "name": "stderr",
     "output_type": "stream",
     "text": [
      "C:\\Users\\ontiv\\anaconda3\\lib\\site-packages\\sklearn\\base.py:443: UserWarning: X has feature names, but SVC was fitted without feature names\n",
      "  warnings.warn(\n",
      "C:\\Users\\ontiv\\anaconda3\\lib\\site-packages\\sklearn\\base.py:443: UserWarning: X has feature names, but SVC was fitted without feature names\n",
      "  warnings.warn(\n"
     ]
    },
    {
     "data": {
      "image/png": "[encoded data removed]",
      "text/plain": [
       "<Figure size 576x360 with 2 Axes>"
      ]
     },
     "metadata": {
      "needs_background": "light"
     },
     "output_type": "display_data"
    },
    {
     "data": {
      "text/html": [
       "<div>\n",
       "<style scoped>\n",
       "    .dataframe tbody tr th:only-of-type {\n",
       "        vertical-align: middle;\n",
       "    }\n",
       "\n",
       "    .dataframe tbody tr th {\n",
       "        vertical-align: top;\n",
       "    }\n",
       "\n",
       "    .dataframe thead th {\n",
       "        text-align: right;\n",
       "    }\n",
       "</style>\n",
       "<table border=\"1\" class=\"dataframe\">\n",
       "  <thead>\n",
       "    <tr style=\"text-align: right;\">\n",
       "      <th></th>\n",
       "      <th>dep_model_acc</th>\n",
       "      <th>dep_roc_auc</th>\n",
       "      <th>anx_model_acc</th>\n",
       "      <th>anx_roc_auc</th>\n",
       "      <th>adhd_model_acc</th>\n",
       "      <th>adhd_roc_auc</th>\n",
       "    </tr>\n",
       "  </thead>\n",
       "  <tbody>\n",
       "    <tr>\n",
       "      <th>logistic</th>\n",
       "      <td>0.837838</td>\n",
       "      <td>0.844720</td>\n",
       "      <td>0.629630</td>\n",
       "      <td>0.561111</td>\n",
       "      <td>0.911765</td>\n",
       "      <td>0.851211</td>\n",
       "    </tr>\n",
       "    <tr>\n",
       "      <th>random forest</th>\n",
       "      <td>0.945946</td>\n",
       "      <td>0.992236</td>\n",
       "      <td>0.555556</td>\n",
       "      <td>0.644444</td>\n",
       "      <td>0.941176</td>\n",
       "      <td>1.000000</td>\n",
       "    </tr>\n",
       "    <tr>\n",
       "      <th>extra trees</th>\n",
       "      <td>0.945946</td>\n",
       "      <td>1.000000</td>\n",
       "      <td>0.555556</td>\n",
       "      <td>0.716667</td>\n",
       "      <td>1.000000</td>\n",
       "      <td>1.000000</td>\n",
       "    </tr>\n",
       "    <tr>\n",
       "      <th>MLP NN</th>\n",
       "      <td>0.432432</td>\n",
       "      <td>0.568323</td>\n",
       "      <td>0.444444</td>\n",
       "      <td>0.650000</td>\n",
       "      <td>0.500000</td>\n",
       "      <td>0.307958</td>\n",
       "    </tr>\n",
       "    <tr>\n",
       "      <th>SVM</th>\n",
       "      <td>0.837838</td>\n",
       "      <td>0.913043</td>\n",
       "      <td>0.703704</td>\n",
       "      <td>0.769444</td>\n",
       "      <td>0.970588</td>\n",
       "      <td>1.000000</td>\n",
       "    </tr>\n",
       "  </tbody>\n",
       "</table>\n",
       "</div>"
      ],
      "text/plain": [
       "               dep_model_acc  dep_roc_auc  anx_model_acc  anx_roc_auc  \\\n",
       "logistic            0.837838     0.844720       0.629630     0.561111   \n",
       "random forest       0.945946     0.992236       0.555556     0.644444   \n",
       "extra trees         0.945946     1.000000       0.555556     0.716667   \n",
       "MLP NN              0.432432     0.568323       0.444444     0.650000   \n",
       "SVM                 0.837838     0.913043       0.703704     0.769444   \n",
       "\n",
       "               adhd_model_acc  adhd_roc_auc  \n",
       "logistic             0.911765      0.851211  \n",
       "random forest        0.941176      1.000000  \n",
       "extra trees          1.000000      1.000000  \n",
       "MLP NN               0.500000      0.307958  \n",
       "SVM                  0.970588      1.000000  "
      ]
     },
     "execution_count": 8,
     "metadata": {},
     "output_type": "execute_result"
    }
   ],
   "source": [
    "target = full_speech_ds['depdxever']\n",
    "dep_results = multi_model(training,target,25,12,'dep')\n",
    "target = full_speech_ds['anxdxever']\n",
    "anx_results = multi_model(training,target,25,7,'anx')\n",
    "target = full_speech_ds['adhd_count']\n",
    "adhd_results = multi_model(training,target,25,12,'adhd')\n",
    "master = pd.concat([dep_results,anx_results,adhd_results],axis = 1)\n",
    "master\n",
    "# dep_results"
   ]
  },
  {
   "cell_type": "code",
   "execution_count": 9,
   "id": "03bde21d",
   "metadata": {},
   "outputs": [
    {
     "data": {
      "text/html": [
       "<div>\n",
       "<style scoped>\n",
       "    .dataframe tbody tr th:only-of-type {\n",
       "        vertical-align: middle;\n",
       "    }\n",
       "\n",
       "    .dataframe tbody tr th {\n",
       "        vertical-align: top;\n",
       "    }\n",
       "\n",
       "    .dataframe thead th {\n",
       "        text-align: right;\n",
       "    }\n",
       "</style>\n",
       "<table border=\"1\" class=\"dataframe\">\n",
       "  <thead>\n",
       "    <tr style=\"text-align: right;\">\n",
       "      <th></th>\n",
       "      <th>dep_model_acc</th>\n",
       "      <th>dep_roc_auc</th>\n",
       "      <th>anx_model_acc</th>\n",
       "      <th>anx_roc_auc</th>\n",
       "      <th>adhd_model_acc</th>\n",
       "      <th>adhd_roc_auc</th>\n",
       "    </tr>\n",
       "  </thead>\n",
       "  <tbody>\n",
       "    <tr>\n",
       "      <th>logistic</th>\n",
       "      <td>0.837838</td>\n",
       "      <td>0.844720</td>\n",
       "      <td>0.629630</td>\n",
       "      <td>0.561111</td>\n",
       "      <td>0.911765</td>\n",
       "      <td>0.851211</td>\n",
       "    </tr>\n",
       "    <tr>\n",
       "      <th>random forest</th>\n",
       "      <td>0.945946</td>\n",
       "      <td>0.992236</td>\n",
       "      <td>0.555556</td>\n",
       "      <td>0.644444</td>\n",
       "      <td>0.941176</td>\n",
       "      <td>1.000000</td>\n",
       "    </tr>\n",
       "    <tr>\n",
       "      <th>extra trees</th>\n",
       "      <td>0.945946</td>\n",
       "      <td>1.000000</td>\n",
       "      <td>0.555556</td>\n",
       "      <td>0.716667</td>\n",
       "      <td>1.000000</td>\n",
       "      <td>1.000000</td>\n",
       "    </tr>\n",
       "    <tr>\n",
       "      <th>MLP NN</th>\n",
       "      <td>0.432432</td>\n",
       "      <td>0.568323</td>\n",
       "      <td>0.444444</td>\n",
       "      <td>0.650000</td>\n",
       "      <td>0.500000</td>\n",
       "      <td>0.307958</td>\n",
       "    </tr>\n",
       "    <tr>\n",
       "      <th>SVM</th>\n",
       "      <td>0.837838</td>\n",
       "      <td>0.913043</td>\n",
       "      <td>0.703704</td>\n",
       "      <td>0.769444</td>\n",
       "      <td>0.970588</td>\n",
       "      <td>1.000000</td>\n",
       "    </tr>\n",
       "  </tbody>\n",
       "</table>\n",
       "</div>"
      ],
      "text/plain": [
       "               dep_model_acc  dep_roc_auc  anx_model_acc  anx_roc_auc  \\\n",
       "logistic            0.837838     0.844720       0.629630     0.561111   \n",
       "random forest       0.945946     0.992236       0.555556     0.644444   \n",
       "extra trees         0.945946     1.000000       0.555556     0.716667   \n",
       "MLP NN              0.432432     0.568323       0.444444     0.650000   \n",
       "SVM                 0.837838     0.913043       0.703704     0.769444   \n",
       "\n",
       "               adhd_model_acc  adhd_roc_auc  \n",
       "logistic             0.911765      0.851211  \n",
       "random forest        0.941176      1.000000  \n",
       "extra trees          1.000000      1.000000  \n",
       "MLP NN               0.500000      0.307958  \n",
       "SVM                  0.970588      1.000000  "
      ]
     },
     "execution_count": 9,
     "metadata": {},
     "output_type": "execute_result"
    },
    {
     "data": {
      "image/png": "[encoded data removed]",
      "text/plain": [
       "<Figure size 720x432 with 1 Axes>"
      ]
     },
     "metadata": {
      "needs_background": "light"
     },
     "output_type": "display_data"
    },
    {
     "data": {
      "image/png": "[encoded data removed]",
      "text/plain": [
       "<Figure size 720x432 with 1 Axes>"
      ]
     },
     "metadata": {
      "needs_background": "light"
     },
     "output_type": "display_data"
    }
   ],
   "source": [
    "master.plot.bar(figsize=(10, 6))\n",
    "plt.legend(loc='lower right')\n",
    "flipped_master = master.T\n",
    "flipped_master.plot.bar(figsize = (10,6))\n",
    "master  # # dep & adhd cv  = 12, anx cv = 7, 25 features max, over sampled - SMOTE, minmax scalar"
   ]
  },
  {
   "cell_type": "code",
   "execution_count": 54,
   "id": "8e16fc51",
   "metadata": {},
   "outputs": [
    {
     "data": {
      "text/html": [
       "<div>\n",
       "<style scoped>\n",
       "    .dataframe tbody tr th:only-of-type {\n",
       "        vertical-align: middle;\n",
       "    }\n",
       "\n",
       "    .dataframe tbody tr th {\n",
       "        vertical-align: top;\n",
       "    }\n",
       "\n",
       "    .dataframe thead th {\n",
       "        text-align: right;\n",
       "    }\n",
       "</style>\n",
       "<table border=\"1\" class=\"dataframe\">\n",
       "  <thead>\n",
       "    <tr style=\"text-align: right;\">\n",
       "      <th></th>\n",
       "      <th>dep_model_acc</th>\n",
       "      <th>dep_roc_auc</th>\n",
       "      <th>anx_model_acc</th>\n",
       "      <th>anx_roc_auc</th>\n",
       "      <th>adhd_model_acc</th>\n",
       "      <th>adhd_roc_auc</th>\n",
       "    </tr>\n",
       "  </thead>\n",
       "  <tbody>\n",
       "    <tr>\n",
       "      <th>logistic</th>\n",
       "      <td>0.918919</td>\n",
       "      <td>0.953216</td>\n",
       "      <td>0.481481</td>\n",
       "      <td>0.586111</td>\n",
       "      <td>0.882353</td>\n",
       "      <td>0.792982</td>\n",
       "    </tr>\n",
       "    <tr>\n",
       "      <th>random forest</th>\n",
       "      <td>0.891892</td>\n",
       "      <td>0.960526</td>\n",
       "      <td>0.666667</td>\n",
       "      <td>0.838889</td>\n",
       "      <td>0.823529</td>\n",
       "      <td>0.896491</td>\n",
       "    </tr>\n",
       "    <tr>\n",
       "      <th>extra trees</th>\n",
       "      <td>0.972973</td>\n",
       "      <td>0.988304</td>\n",
       "      <td>0.629630</td>\n",
       "      <td>0.844444</td>\n",
       "      <td>0.882353</td>\n",
       "      <td>0.936842</td>\n",
       "    </tr>\n",
       "    <tr>\n",
       "      <th>MLP NN</th>\n",
       "      <td>0.513514</td>\n",
       "      <td>0.464912</td>\n",
       "      <td>0.444444</td>\n",
       "      <td>0.438889</td>\n",
       "      <td>0.588235</td>\n",
       "      <td>0.596491</td>\n",
       "    </tr>\n",
       "    <tr>\n",
       "      <th>SVM</th>\n",
       "      <td>0.891892</td>\n",
       "      <td>0.988304</td>\n",
       "      <td>0.703704</td>\n",
       "      <td>0.794444</td>\n",
       "      <td>0.823529</td>\n",
       "      <td>0.940351</td>\n",
       "    </tr>\n",
       "  </tbody>\n",
       "</table>\n",
       "</div>"
      ],
      "text/plain": [
       "               dep_model_acc  dep_roc_auc  anx_model_acc  anx_roc_auc  \\\n",
       "logistic            0.918919     0.953216       0.481481     0.586111   \n",
       "random forest       0.891892     0.960526       0.666667     0.838889   \n",
       "extra trees         0.972973     0.988304       0.629630     0.844444   \n",
       "MLP NN              0.513514     0.464912       0.444444     0.438889   \n",
       "SVM                 0.891892     0.988304       0.703704     0.794444   \n",
       "\n",
       "               adhd_model_acc  adhd_roc_auc  \n",
       "logistic             0.882353      0.792982  \n",
       "random forest        0.823529      0.896491  \n",
       "extra trees          0.882353      0.936842  \n",
       "MLP NN               0.588235      0.596491  \n",
       "SVM                  0.823529      0.940351  "
      ]
     },
     "execution_count": 54,
     "metadata": {},
     "output_type": "execute_result"
    },
    {
     "data": {
      "image/png": "[encoded data removed]",
      "text/plain": [
       "<Figure size 720x432 with 1 Axes>"
      ]
     },
     "metadata": {
      "needs_background": "light"
     },
     "output_type": "display_data"
    }
   ],
   "source": [
    "master.plot.bar(figsize=(10, 6))\n",
    "plt.legend(loc='lower right')\n",
    "master  # # dep & adhd cv  = 12, anx cv = 7, 25 features max, over sampled - SMOTE, minmax scalar"
   ]
  },
  {
   "cell_type": "code",
   "execution_count": 43,
   "id": "93c30a75",
   "metadata": {},
   "outputs": [
    {
     "data": {
      "text/html": [
       "<div>\n",
       "<style scoped>\n",
       "    .dataframe tbody tr th:only-of-type {\n",
       "        vertical-align: middle;\n",
       "    }\n",
       "\n",
       "    .dataframe tbody tr th {\n",
       "        vertical-align: top;\n",
       "    }\n",
       "\n",
       "    .dataframe thead th {\n",
       "        text-align: right;\n",
       "    }\n",
       "</style>\n",
       "<table border=\"1\" class=\"dataframe\">\n",
       "  <thead>\n",
       "    <tr style=\"text-align: right;\">\n",
       "      <th></th>\n",
       "      <th>dep_model_acc</th>\n",
       "      <th>dep_roc_auc</th>\n",
       "      <th>anx_model_acc</th>\n",
       "      <th>anx_roc_auc</th>\n",
       "      <th>adhd_model_acc</th>\n",
       "      <th>adhd_roc_auc</th>\n",
       "    </tr>\n",
       "  </thead>\n",
       "  <tbody>\n",
       "    <tr>\n",
       "      <th>logistic</th>\n",
       "      <td>0.864865</td>\n",
       "      <td>0.869048</td>\n",
       "      <td>0.592593</td>\n",
       "      <td>0.562500</td>\n",
       "      <td>0.911765</td>\n",
       "      <td>0.965398</td>\n",
       "    </tr>\n",
       "    <tr>\n",
       "      <th>random forest</th>\n",
       "      <td>0.945946</td>\n",
       "      <td>0.994048</td>\n",
       "      <td>0.629630</td>\n",
       "      <td>0.690341</td>\n",
       "      <td>0.911765</td>\n",
       "      <td>0.986159</td>\n",
       "    </tr>\n",
       "    <tr>\n",
       "      <th>extra trees</th>\n",
       "      <td>0.891892</td>\n",
       "      <td>0.955357</td>\n",
       "      <td>0.703704</td>\n",
       "      <td>0.801136</td>\n",
       "      <td>0.911765</td>\n",
       "      <td>0.982699</td>\n",
       "    </tr>\n",
       "    <tr>\n",
       "      <th>MLP NN</th>\n",
       "      <td>0.567568</td>\n",
       "      <td>0.562500</td>\n",
       "      <td>0.518519</td>\n",
       "      <td>0.392045</td>\n",
       "      <td>0.617647</td>\n",
       "      <td>0.692042</td>\n",
       "    </tr>\n",
       "    <tr>\n",
       "      <th>SVM</th>\n",
       "      <td>0.972973</td>\n",
       "      <td>1.000000</td>\n",
       "      <td>0.629630</td>\n",
       "      <td>0.607955</td>\n",
       "      <td>0.941176</td>\n",
       "      <td>1.000000</td>\n",
       "    </tr>\n",
       "  </tbody>\n",
       "</table>\n",
       "</div>"
      ],
      "text/plain": [
       "               dep_model_acc  dep_roc_auc  anx_model_acc  anx_roc_auc  \\\n",
       "logistic            0.864865     0.869048       0.592593     0.562500   \n",
       "random forest       0.945946     0.994048       0.629630     0.690341   \n",
       "extra trees         0.891892     0.955357       0.703704     0.801136   \n",
       "MLP NN              0.567568     0.562500       0.518519     0.392045   \n",
       "SVM                 0.972973     1.000000       0.629630     0.607955   \n",
       "\n",
       "               adhd_model_acc  adhd_roc_auc  \n",
       "logistic             0.911765      0.965398  \n",
       "random forest        0.911765      0.986159  \n",
       "extra trees          0.911765      0.982699  \n",
       "MLP NN               0.617647      0.692042  \n",
       "SVM                  0.941176      1.000000  "
      ]
     },
     "execution_count": 43,
     "metadata": {},
     "output_type": "execute_result"
    },
    {
     "data": {
      "image/png": "[encoded data removed]",
      "text/plain": [
       "<Figure size 720x432 with 1 Axes>"
      ]
     },
     "metadata": {
      "needs_background": "light"
     },
     "output_type": "display_data"
    }
   ],
   "source": [
    "master.plot.bar(figsize=(10, 6))\n",
    "plt.legend(loc='lower right')\n",
    "master  # # dep & adhd cv  = 12, anx cv = 7, 25 features, over sampled - SMOTE, minmax scalar"
   ]
  },
  {
   "cell_type": "code",
   "execution_count": 37,
   "id": "03657167",
   "metadata": {},
   "outputs": [
    {
     "data": {
      "text/html": [
       "<div>\n",
       "<style scoped>\n",
       "    .dataframe tbody tr th:only-of-type {\n",
       "        vertical-align: middle;\n",
       "    }\n",
       "\n",
       "    .dataframe tbody tr th {\n",
       "        vertical-align: top;\n",
       "    }\n",
       "\n",
       "    .dataframe thead th {\n",
       "        text-align: right;\n",
       "    }\n",
       "</style>\n",
       "<table border=\"1\" class=\"dataframe\">\n",
       "  <thead>\n",
       "    <tr style=\"text-align: right;\">\n",
       "      <th></th>\n",
       "      <th>dep_model_acc</th>\n",
       "      <th>dep_roc_auc</th>\n",
       "      <th>anx_model_acc</th>\n",
       "      <th>anx_roc_auc</th>\n",
       "      <th>adhd_model_acc</th>\n",
       "      <th>adhd_roc_auc</th>\n",
       "    </tr>\n",
       "  </thead>\n",
       "  <tbody>\n",
       "    <tr>\n",
       "      <th>logistic</th>\n",
       "      <td>0.837838</td>\n",
       "      <td>0.735294</td>\n",
       "      <td>0.592593</td>\n",
       "      <td>0.554945</td>\n",
       "      <td>0.911765</td>\n",
       "      <td>0.924242</td>\n",
       "    </tr>\n",
       "    <tr>\n",
       "      <th>random forest</th>\n",
       "      <td>0.891892</td>\n",
       "      <td>0.930882</td>\n",
       "      <td>0.740741</td>\n",
       "      <td>0.752747</td>\n",
       "      <td>0.911765</td>\n",
       "      <td>0.977273</td>\n",
       "    </tr>\n",
       "    <tr>\n",
       "      <th>extra trees</th>\n",
       "      <td>0.918919</td>\n",
       "      <td>0.994118</td>\n",
       "      <td>0.666667</td>\n",
       "      <td>0.829670</td>\n",
       "      <td>0.970588</td>\n",
       "      <td>0.996212</td>\n",
       "    </tr>\n",
       "    <tr>\n",
       "      <th>MLP NN</th>\n",
       "      <td>0.405405</td>\n",
       "      <td>0.541176</td>\n",
       "      <td>0.444444</td>\n",
       "      <td>0.423077</td>\n",
       "      <td>0.382353</td>\n",
       "      <td>0.356061</td>\n",
       "    </tr>\n",
       "    <tr>\n",
       "      <th>SVM</th>\n",
       "      <td>0.918919</td>\n",
       "      <td>0.994118</td>\n",
       "      <td>0.629630</td>\n",
       "      <td>0.785714</td>\n",
       "      <td>0.970588</td>\n",
       "      <td>1.000000</td>\n",
       "    </tr>\n",
       "  </tbody>\n",
       "</table>\n",
       "</div>"
      ],
      "text/plain": [
       "               dep_model_acc  dep_roc_auc  anx_model_acc  anx_roc_auc  \\\n",
       "logistic            0.837838     0.735294       0.592593     0.554945   \n",
       "random forest       0.891892     0.930882       0.740741     0.752747   \n",
       "extra trees         0.918919     0.994118       0.666667     0.829670   \n",
       "MLP NN              0.405405     0.541176       0.444444     0.423077   \n",
       "SVM                 0.918919     0.994118       0.629630     0.785714   \n",
       "\n",
       "               adhd_model_acc  adhd_roc_auc  \n",
       "logistic             0.911765      0.924242  \n",
       "random forest        0.911765      0.977273  \n",
       "extra trees          0.970588      0.996212  \n",
       "MLP NN               0.382353      0.356061  \n",
       "SVM                  0.970588      1.000000  "
      ]
     },
     "execution_count": 37,
     "metadata": {},
     "output_type": "execute_result"
    },
    {
     "data": {
      "image/png": "[encoded data removed]",
      "text/plain": [
       "<Figure size 720x432 with 1 Axes>"
      ]
     },
     "metadata": {
      "needs_background": "light"
     },
     "output_type": "display_data"
    }
   ],
   "source": [
    "master.plot.bar(figsize=(10, 6))\n",
    "plt.legend(loc='lower right')\n",
    "master  # # dep & adhd cv  = 12, anx cv = 7, 25 features, over sampled - SMOTE, minmax scalar"
   ]
  },
  {
   "cell_type": "code",
   "execution_count": 7,
   "id": "a05a0144",
   "metadata": {},
   "outputs": [
    {
     "data": {
      "text/html": [
       "<div>\n",
       "<style scoped>\n",
       "    .dataframe tbody tr th:only-of-type {\n",
       "        vertical-align: middle;\n",
       "    }\n",
       "\n",
       "    .dataframe tbody tr th {\n",
       "        vertical-align: top;\n",
       "    }\n",
       "\n",
       "    .dataframe thead th {\n",
       "        text-align: right;\n",
       "    }\n",
       "</style>\n",
       "<table border=\"1\" class=\"dataframe\">\n",
       "  <thead>\n",
       "    <tr style=\"text-align: right;\">\n",
       "      <th></th>\n",
       "      <th>dep_model_acc</th>\n",
       "      <th>dep_roc_auc</th>\n",
       "      <th>anx_model_acc</th>\n",
       "      <th>anx_roc_auc</th>\n",
       "      <th>adhd_model_acc</th>\n",
       "      <th>adhd_roc_auc</th>\n",
       "    </tr>\n",
       "  </thead>\n",
       "  <tbody>\n",
       "    <tr>\n",
       "      <th>logistic</th>\n",
       "      <td>0.864865</td>\n",
       "      <td>0.900298</td>\n",
       "      <td>0.555556</td>\n",
       "      <td>0.638889</td>\n",
       "      <td>0.764706</td>\n",
       "      <td>0.706960</td>\n",
       "    </tr>\n",
       "    <tr>\n",
       "      <th>random forest</th>\n",
       "      <td>0.918919</td>\n",
       "      <td>0.965774</td>\n",
       "      <td>0.555556</td>\n",
       "      <td>0.613889</td>\n",
       "      <td>0.647059</td>\n",
       "      <td>0.913919</td>\n",
       "    </tr>\n",
       "    <tr>\n",
       "      <th>extra trees</th>\n",
       "      <td>0.972973</td>\n",
       "      <td>0.997024</td>\n",
       "      <td>0.592593</td>\n",
       "      <td>0.647222</td>\n",
       "      <td>0.911765</td>\n",
       "      <td>0.989011</td>\n",
       "    </tr>\n",
       "    <tr>\n",
       "      <th>MLP NN</th>\n",
       "      <td>0.567568</td>\n",
       "      <td>0.488095</td>\n",
       "      <td>0.555556</td>\n",
       "      <td>0.444444</td>\n",
       "      <td>0.529412</td>\n",
       "      <td>0.644689</td>\n",
       "    </tr>\n",
       "    <tr>\n",
       "      <th>SVM</th>\n",
       "      <td>0.513514</td>\n",
       "      <td>0.363095</td>\n",
       "      <td>0.592593</td>\n",
       "      <td>0.455556</td>\n",
       "      <td>0.411765</td>\n",
       "      <td>0.413919</td>\n",
       "    </tr>\n",
       "  </tbody>\n",
       "</table>\n",
       "</div>"
      ],
      "text/plain": [
       "               dep_model_acc  dep_roc_auc  anx_model_acc  anx_roc_auc  \\\n",
       "logistic            0.864865     0.900298       0.555556     0.638889   \n",
       "random forest       0.918919     0.965774       0.555556     0.613889   \n",
       "extra trees         0.972973     0.997024       0.592593     0.647222   \n",
       "MLP NN              0.567568     0.488095       0.555556     0.444444   \n",
       "SVM                 0.513514     0.363095       0.592593     0.455556   \n",
       "\n",
       "               adhd_model_acc  adhd_roc_auc  \n",
       "logistic             0.764706      0.706960  \n",
       "random forest        0.647059      0.913919  \n",
       "extra trees          0.911765      0.989011  \n",
       "MLP NN               0.529412      0.644689  \n",
       "SVM                  0.411765      0.413919  "
      ]
     },
     "execution_count": 7,
     "metadata": {},
     "output_type": "execute_result"
    },
    {
     "data": {
      "image/png": "[encoded data removed]",
      "text/plain": [
       "<Figure size 720x432 with 1 Axes>"
      ]
     },
     "metadata": {
      "needs_background": "light"
     },
     "output_type": "display_data"
    }
   ],
   "source": [
    "master.plot.bar(figsize=(10, 6))\n",
    "master  # # dep & adhd cv  = 12, anx cv = 7, 25 features, over sampled - ADASYN"
   ]
  },
  {
   "cell_type": "code",
   "execution_count": 35,
   "id": "fa4faed5",
   "metadata": {},
   "outputs": [
    {
     "data": {
      "text/html": [
       "<div>\n",
       "<style scoped>\n",
       "    .dataframe tbody tr th:only-of-type {\n",
       "        vertical-align: middle;\n",
       "    }\n",
       "\n",
       "    .dataframe tbody tr th {\n",
       "        vertical-align: top;\n",
       "    }\n",
       "\n",
       "    .dataframe thead th {\n",
       "        text-align: right;\n",
       "    }\n",
       "</style>\n",
       "<table border=\"1\" class=\"dataframe\">\n",
       "  <thead>\n",
       "    <tr style=\"text-align: right;\">\n",
       "      <th></th>\n",
       "      <th>dep_model_acc</th>\n",
       "      <th>dep_roc_auc</th>\n",
       "      <th>anx_model_acc</th>\n",
       "      <th>anx_roc_auc</th>\n",
       "      <th>adhd_model_acc</th>\n",
       "      <th>adhd_roc_auc</th>\n",
       "    </tr>\n",
       "  </thead>\n",
       "  <tbody>\n",
       "    <tr>\n",
       "      <th>logistic</th>\n",
       "      <td>0.918919</td>\n",
       "      <td>0.862179</td>\n",
       "      <td>0.592593</td>\n",
       "      <td>0.604396</td>\n",
       "      <td>0.852941</td>\n",
       "      <td>0.901754</td>\n",
       "    </tr>\n",
       "    <tr>\n",
       "      <th>random forest</th>\n",
       "      <td>0.837838</td>\n",
       "      <td>0.910256</td>\n",
       "      <td>0.555556</td>\n",
       "      <td>0.703297</td>\n",
       "      <td>0.617647</td>\n",
       "      <td>0.777193</td>\n",
       "    </tr>\n",
       "    <tr>\n",
       "      <th>extra trees</th>\n",
       "      <td>0.891892</td>\n",
       "      <td>0.980769</td>\n",
       "      <td>0.518519</td>\n",
       "      <td>0.612637</td>\n",
       "      <td>0.382353</td>\n",
       "      <td>0.347368</td>\n",
       "    </tr>\n",
       "    <tr>\n",
       "      <th>MLP NN</th>\n",
       "      <td>0.405405</td>\n",
       "      <td>0.596154</td>\n",
       "      <td>0.518519</td>\n",
       "      <td>0.467033</td>\n",
       "      <td>0.588235</td>\n",
       "      <td>0.578947</td>\n",
       "    </tr>\n",
       "    <tr>\n",
       "      <th>SVM</th>\n",
       "      <td>0.351351</td>\n",
       "      <td>0.288462</td>\n",
       "      <td>0.592593</td>\n",
       "      <td>0.434066</td>\n",
       "      <td>0.441176</td>\n",
       "      <td>0.529825</td>\n",
       "    </tr>\n",
       "  </tbody>\n",
       "</table>\n",
       "</div>"
      ],
      "text/plain": [
       "               dep_model_acc  dep_roc_auc  anx_model_acc  anx_roc_auc  \\\n",
       "logistic            0.918919     0.862179       0.592593     0.604396   \n",
       "random forest       0.837838     0.910256       0.555556     0.703297   \n",
       "extra trees         0.891892     0.980769       0.518519     0.612637   \n",
       "MLP NN              0.405405     0.596154       0.518519     0.467033   \n",
       "SVM                 0.351351     0.288462       0.592593     0.434066   \n",
       "\n",
       "               adhd_model_acc  adhd_roc_auc  \n",
       "logistic             0.852941      0.901754  \n",
       "random forest        0.617647      0.777193  \n",
       "extra trees          0.382353      0.347368  \n",
       "MLP NN               0.588235      0.578947  \n",
       "SVM                  0.441176      0.529825  "
      ]
     },
     "execution_count": 35,
     "metadata": {},
     "output_type": "execute_result"
    },
    {
     "data": {
      "image/png": "[encoded data removed]",
      "text/plain": [
       "<Figure size 720x432 with 1 Axes>"
      ]
     },
     "metadata": {
      "needs_background": "light"
     },
     "output_type": "display_data"
    }
   ],
   "source": [
    "master.plot.bar(figsize=(10, 6))\n",
    "master  # # dep & adhd cv  = 12, anx cv = 7, 30 features, over sampled - ADASYN"
   ]
  },
  {
   "cell_type": "code",
   "execution_count": 32,
   "id": "a0a78c03",
   "metadata": {},
   "outputs": [
    {
     "data": {
      "text/html": [
       "<div>\n",
       "<style scoped>\n",
       "    .dataframe tbody tr th:only-of-type {\n",
       "        vertical-align: middle;\n",
       "    }\n",
       "\n",
       "    .dataframe tbody tr th {\n",
       "        vertical-align: top;\n",
       "    }\n",
       "\n",
       "    .dataframe thead th {\n",
       "        text-align: right;\n",
       "    }\n",
       "</style>\n",
       "<table border=\"1\" class=\"dataframe\">\n",
       "  <thead>\n",
       "    <tr style=\"text-align: right;\">\n",
       "      <th></th>\n",
       "      <th>dep_model_acc</th>\n",
       "      <th>dep_roc_auc</th>\n",
       "      <th>anx_model_acc</th>\n",
       "      <th>anx_roc_auc</th>\n",
       "      <th>adhd_model_acc</th>\n",
       "      <th>adhd_roc_auc</th>\n",
       "    </tr>\n",
       "  </thead>\n",
       "  <tbody>\n",
       "    <tr>\n",
       "      <th>logistic</th>\n",
       "      <td>0.861111</td>\n",
       "      <td>0.864198</td>\n",
       "      <td>0.571429</td>\n",
       "      <td>0.523077</td>\n",
       "      <td>0.942857</td>\n",
       "      <td>0.960000</td>\n",
       "    </tr>\n",
       "    <tr>\n",
       "      <th>random forest</th>\n",
       "      <td>0.972222</td>\n",
       "      <td>1.000000</td>\n",
       "      <td>0.571429</td>\n",
       "      <td>0.538462</td>\n",
       "      <td>0.942857</td>\n",
       "      <td>0.943333</td>\n",
       "    </tr>\n",
       "    <tr>\n",
       "      <th>extra trees</th>\n",
       "      <td>0.972222</td>\n",
       "      <td>0.996914</td>\n",
       "      <td>0.535714</td>\n",
       "      <td>0.579487</td>\n",
       "      <td>0.914286</td>\n",
       "      <td>1.000000</td>\n",
       "    </tr>\n",
       "    <tr>\n",
       "      <th>MLP NN</th>\n",
       "      <td>0.527778</td>\n",
       "      <td>0.429012</td>\n",
       "      <td>0.357143</td>\n",
       "      <td>0.292308</td>\n",
       "      <td>0.600000</td>\n",
       "      <td>0.600000</td>\n",
       "    </tr>\n",
       "    <tr>\n",
       "      <th>SVM</th>\n",
       "      <td>0.611111</td>\n",
       "      <td>0.402778</td>\n",
       "      <td>0.464286</td>\n",
       "      <td>0.251282</td>\n",
       "      <td>0.571429</td>\n",
       "      <td>0.678333</td>\n",
       "    </tr>\n",
       "  </tbody>\n",
       "</table>\n",
       "</div>"
      ],
      "text/plain": [
       "               dep_model_acc  dep_roc_auc  anx_model_acc  anx_roc_auc  \\\n",
       "logistic            0.861111     0.864198       0.571429     0.523077   \n",
       "random forest       0.972222     1.000000       0.571429     0.538462   \n",
       "extra trees         0.972222     0.996914       0.535714     0.579487   \n",
       "MLP NN              0.527778     0.429012       0.357143     0.292308   \n",
       "SVM                 0.611111     0.402778       0.464286     0.251282   \n",
       "\n",
       "               adhd_model_acc  adhd_roc_auc  \n",
       "logistic             0.942857      0.960000  \n",
       "random forest        0.942857      0.943333  \n",
       "extra trees          0.914286      1.000000  \n",
       "MLP NN               0.600000      0.600000  \n",
       "SVM                  0.571429      0.678333  "
      ]
     },
     "execution_count": 32,
     "metadata": {},
     "output_type": "execute_result"
    },
    {
     "data": {
      "image/png": "[encoded data removed]",
      "text/plain": [
       "<Figure size 720x432 with 1 Axes>"
      ]
     },
     "metadata": {
      "needs_background": "light"
     },
     "output_type": "display_data"
    }
   ],
   "source": [
    "master.plot.bar(figsize=(10, 6))\n",
    "master  # # dep & adhd cv  = 12, anx cv = 7, 20 features, over sampled - ADASYN"
   ]
  },
  {
   "cell_type": "code",
   "execution_count": 22,
   "id": "886afdfe",
   "metadata": {},
   "outputs": [
    {
     "data": {
      "text/html": [
       "<div>\n",
       "<style scoped>\n",
       "    .dataframe tbody tr th:only-of-type {\n",
       "        vertical-align: middle;\n",
       "    }\n",
       "\n",
       "    .dataframe tbody tr th {\n",
       "        vertical-align: top;\n",
       "    }\n",
       "\n",
       "    .dataframe thead th {\n",
       "        text-align: right;\n",
       "    }\n",
       "</style>\n",
       "<table border=\"1\" class=\"dataframe\">\n",
       "  <thead>\n",
       "    <tr style=\"text-align: right;\">\n",
       "      <th></th>\n",
       "      <th>dep_model_acc</th>\n",
       "      <th>dep_roc_auc</th>\n",
       "      <th>anx_model_acc</th>\n",
       "      <th>anx_roc_auc</th>\n",
       "      <th>adhd_model_acc</th>\n",
       "      <th>adhd_roc_auc</th>\n",
       "    </tr>\n",
       "  </thead>\n",
       "  <tbody>\n",
       "    <tr>\n",
       "      <th>logistic</th>\n",
       "      <td>0.756757</td>\n",
       "      <td>0.706845</td>\n",
       "      <td>0.555556</td>\n",
       "      <td>0.638889</td>\n",
       "      <td>0.794118</td>\n",
       "      <td>0.820513</td>\n",
       "    </tr>\n",
       "    <tr>\n",
       "      <th>random forest</th>\n",
       "      <td>0.891892</td>\n",
       "      <td>0.991071</td>\n",
       "      <td>0.555556</td>\n",
       "      <td>0.613889</td>\n",
       "      <td>0.676471</td>\n",
       "      <td>0.893773</td>\n",
       "    </tr>\n",
       "    <tr>\n",
       "      <th>extra trees</th>\n",
       "      <td>0.864865</td>\n",
       "      <td>0.962798</td>\n",
       "      <td>0.666667</td>\n",
       "      <td>0.661111</td>\n",
       "      <td>0.941176</td>\n",
       "      <td>0.981685</td>\n",
       "    </tr>\n",
       "    <tr>\n",
       "      <th>MLP NN</th>\n",
       "      <td>0.567568</td>\n",
       "      <td>0.488095</td>\n",
       "      <td>0.555556</td>\n",
       "      <td>0.444444</td>\n",
       "      <td>0.529412</td>\n",
       "      <td>0.644689</td>\n",
       "    </tr>\n",
       "    <tr>\n",
       "      <th>SVM</th>\n",
       "      <td>0.513514</td>\n",
       "      <td>0.363095</td>\n",
       "      <td>0.592593</td>\n",
       "      <td>0.455556</td>\n",
       "      <td>0.411765</td>\n",
       "      <td>0.413919</td>\n",
       "    </tr>\n",
       "  </tbody>\n",
       "</table>\n",
       "</div>"
      ],
      "text/plain": [
       "               dep_model_acc  dep_roc_auc  anx_model_acc  anx_roc_auc  \\\n",
       "logistic            0.756757     0.706845       0.555556     0.638889   \n",
       "random forest       0.891892     0.991071       0.555556     0.613889   \n",
       "extra trees         0.864865     0.962798       0.666667     0.661111   \n",
       "MLP NN              0.567568     0.488095       0.555556     0.444444   \n",
       "SVM                 0.513514     0.363095       0.592593     0.455556   \n",
       "\n",
       "               adhd_model_acc  adhd_roc_auc  \n",
       "logistic             0.794118      0.820513  \n",
       "random forest        0.676471      0.893773  \n",
       "extra trees          0.941176      0.981685  \n",
       "MLP NN               0.529412      0.644689  \n",
       "SVM                  0.411765      0.413919  "
      ]
     },
     "execution_count": 22,
     "metadata": {},
     "output_type": "execute_result"
    },
    {
     "data": {
      "image/png": "[encoded data removed]",
      "text/plain": [
       "<Figure size 720x432 with 1 Axes>"
      ]
     },
     "metadata": {
      "needs_background": "light"
     },
     "output_type": "display_data"
    }
   ],
   "source": [
    "master.plot.bar(figsize=(10, 6))\n",
    "master  # # dep & adhd cv  = 12, anx cv = 7, 20 features, over sampled - SMOTE"
   ]
  },
  {
   "cell_type": "code",
   "execution_count": 47,
   "id": "69757b97",
   "metadata": {},
   "outputs": [
    {
     "data": {
      "text/html": [
       "<div>\n",
       "<style scoped>\n",
       "    .dataframe tbody tr th:only-of-type {\n",
       "        vertical-align: middle;\n",
       "    }\n",
       "\n",
       "    .dataframe tbody tr th {\n",
       "        vertical-align: top;\n",
       "    }\n",
       "\n",
       "    .dataframe thead th {\n",
       "        text-align: right;\n",
       "    }\n",
       "</style>\n",
       "<table border=\"1\" class=\"dataframe\">\n",
       "  <thead>\n",
       "    <tr style=\"text-align: right;\">\n",
       "      <th></th>\n",
       "      <th>depmodel_acc</th>\n",
       "      <th>deproc_auc</th>\n",
       "      <th>anxmodel_acc</th>\n",
       "      <th>anxroc_auc</th>\n",
       "      <th>adhdmodel_acc</th>\n",
       "      <th>adhdroc_auc</th>\n",
       "    </tr>\n",
       "  </thead>\n",
       "  <tbody>\n",
       "    <tr>\n",
       "      <th>logistic</th>\n",
       "      <td>0.621622</td>\n",
       "      <td>0.704412</td>\n",
       "      <td>0.444444</td>\n",
       "      <td>0.392045</td>\n",
       "      <td>0.441176</td>\n",
       "      <td>0.485714</td>\n",
       "    </tr>\n",
       "    <tr>\n",
       "      <th>random forest</th>\n",
       "      <td>0.783784</td>\n",
       "      <td>0.770588</td>\n",
       "      <td>0.703704</td>\n",
       "      <td>0.690341</td>\n",
       "      <td>0.764706</td>\n",
       "      <td>0.844643</td>\n",
       "    </tr>\n",
       "    <tr>\n",
       "      <th>extra trees</th>\n",
       "      <td>0.945946</td>\n",
       "      <td>0.986765</td>\n",
       "      <td>0.703704</td>\n",
       "      <td>0.750000</td>\n",
       "      <td>0.794118</td>\n",
       "      <td>0.894643</td>\n",
       "    </tr>\n",
       "    <tr>\n",
       "      <th>MLP NN</th>\n",
       "      <td>0.594595</td>\n",
       "      <td>0.563235</td>\n",
       "      <td>0.407407</td>\n",
       "      <td>0.375000</td>\n",
       "      <td>0.558824</td>\n",
       "      <td>0.550000</td>\n",
       "    </tr>\n",
       "  </tbody>\n",
       "</table>\n",
       "</div>"
      ],
      "text/plain": [
       "               depmodel_acc  deproc_auc  anxmodel_acc  anxroc_auc  \\\n",
       "logistic           0.621622    0.704412      0.444444    0.392045   \n",
       "random forest      0.783784    0.770588      0.703704    0.690341   \n",
       "extra trees        0.945946    0.986765      0.703704    0.750000   \n",
       "MLP NN             0.594595    0.563235      0.407407    0.375000   \n",
       "\n",
       "               adhdmodel_acc  adhdroc_auc  \n",
       "logistic            0.441176     0.485714  \n",
       "random forest       0.764706     0.844643  \n",
       "extra trees         0.794118     0.894643  \n",
       "MLP NN              0.558824     0.550000  "
      ]
     },
     "execution_count": 47,
     "metadata": {},
     "output_type": "execute_result"
    },
    {
     "data": {
      "image/png": "[encoded data removed]",
      "text/plain": [
       "<Figure size 1080x720 with 1 Axes>"
      ]
     },
     "metadata": {
      "needs_background": "light"
     },
     "output_type": "display_data"
    }
   ],
   "source": [
    "master # dep & adhd cv  = 12, anx cv = 7, 1 features, over sampled\n",
    "master.plot.bar(figsize=(15, 10))\n",
    "plt.legend(loc='lower right')\n",
    "master"
   ]
  },
  {
   "cell_type": "code",
   "execution_count": 36,
   "id": "c4c91fcf",
   "metadata": {},
   "outputs": [
    {
     "data": {
      "text/plain": [
       "<AxesSubplot:>"
      ]
     },
     "execution_count": 36,
     "metadata": {},
     "output_type": "execute_result"
    },
    {
     "data": {
      "image/png": "[encoded data removed]",
      "text/plain": [
       "<Figure size 432x288 with 1 Axes>"
      ]
     },
     "metadata": {
      "needs_background": "light"
     },
     "output_type": "display_data"
    }
   ],
   "source": [
    "master # dep & adhd cv  = 12, anx cv = 7, 10 features, over sampled\n",
    "master.plot.bar()"
   ]
  },
  {
   "cell_type": "code",
   "execution_count": 30,
   "id": "311ec83f",
   "metadata": {},
   "outputs": [
    {
     "data": {
      "text/html": [
       "<div>\n",
       "<style scoped>\n",
       "    .dataframe tbody tr th:only-of-type {\n",
       "        vertical-align: middle;\n",
       "    }\n",
       "\n",
       "    .dataframe tbody tr th {\n",
       "        vertical-align: top;\n",
       "    }\n",
       "\n",
       "    .dataframe thead th {\n",
       "        text-align: right;\n",
       "    }\n",
       "</style>\n",
       "<table border=\"1\" class=\"dataframe\">\n",
       "  <thead>\n",
       "    <tr style=\"text-align: right;\">\n",
       "      <th></th>\n",
       "      <th>model_acc</th>\n",
       "      <th>accuracy</th>\n",
       "      <th>roc_auc</th>\n",
       "      <th>model_acc</th>\n",
       "      <th>accuracy</th>\n",
       "      <th>roc_auc</th>\n",
       "      <th>model_acc</th>\n",
       "      <th>accuracy</th>\n",
       "      <th>roc_auc</th>\n",
       "    </tr>\n",
       "  </thead>\n",
       "  <tbody>\n",
       "    <tr>\n",
       "      <th>logistic</th>\n",
       "      <td>0.809524</td>\n",
       "      <td>0.809524</td>\n",
       "      <td>0.632353</td>\n",
       "      <td>0.523810</td>\n",
       "      <td>0.523810</td>\n",
       "      <td>0.527273</td>\n",
       "      <td>0.809524</td>\n",
       "      <td>0.809524</td>\n",
       "      <td>0.691176</td>\n",
       "    </tr>\n",
       "    <tr>\n",
       "      <th>random forest</th>\n",
       "      <td>0.809524</td>\n",
       "      <td>0.809524</td>\n",
       "      <td>0.764706</td>\n",
       "      <td>0.523810</td>\n",
       "      <td>0.523810</td>\n",
       "      <td>0.500000</td>\n",
       "      <td>0.857143</td>\n",
       "      <td>0.857143</td>\n",
       "      <td>0.573529</td>\n",
       "    </tr>\n",
       "    <tr>\n",
       "      <th>extra trees</th>\n",
       "      <td>0.809524</td>\n",
       "      <td>0.809524</td>\n",
       "      <td>0.558824</td>\n",
       "      <td>0.571429</td>\n",
       "      <td>0.571429</td>\n",
       "      <td>0.445455</td>\n",
       "      <td>0.809524</td>\n",
       "      <td>0.809524</td>\n",
       "      <td>0.602941</td>\n",
       "    </tr>\n",
       "    <tr>\n",
       "      <th>MLP NN</th>\n",
       "      <td>0.809524</td>\n",
       "      <td>0.809524</td>\n",
       "      <td>0.500000</td>\n",
       "      <td>0.523810</td>\n",
       "      <td>0.523810</td>\n",
       "      <td>0.500000</td>\n",
       "      <td>0.809524</td>\n",
       "      <td>0.809524</td>\n",
       "      <td>0.602941</td>\n",
       "    </tr>\n",
       "  </tbody>\n",
       "</table>\n",
       "</div>"
      ],
      "text/plain": [
       "               model_acc  accuracy   roc_auc  model_acc  accuracy   roc_auc  \\\n",
       "logistic        0.809524  0.809524  0.632353   0.523810  0.523810  0.527273   \n",
       "random forest   0.809524  0.809524  0.764706   0.523810  0.523810  0.500000   \n",
       "extra trees     0.809524  0.809524  0.558824   0.571429  0.571429  0.445455   \n",
       "MLP NN          0.809524  0.809524  0.500000   0.523810  0.523810  0.500000   \n",
       "\n",
       "               model_acc  accuracy   roc_auc  \n",
       "logistic        0.809524  0.809524  0.691176  \n",
       "random forest   0.857143  0.857143  0.573529  \n",
       "extra trees     0.809524  0.809524  0.602941  \n",
       "MLP NN          0.809524  0.809524  0.602941  "
      ]
     },
     "execution_count": 30,
     "metadata": {},
     "output_type": "execute_result"
    }
   ],
   "source": [
    "master # cv = 12"
   ]
  },
  {
   "cell_type": "code",
   "execution_count": 12,
   "id": "d362764d",
   "metadata": {},
   "outputs": [
    {
     "data": {
      "text/html": [
       "<div>\n",
       "<style scoped>\n",
       "    .dataframe tbody tr th:only-of-type {\n",
       "        vertical-align: middle;\n",
       "    }\n",
       "\n",
       "    .dataframe tbody tr th {\n",
       "        vertical-align: top;\n",
       "    }\n",
       "\n",
       "    .dataframe thead th {\n",
       "        text-align: right;\n",
       "    }\n",
       "</style>\n",
       "<table border=\"1\" class=\"dataframe\">\n",
       "  <thead>\n",
       "    <tr style=\"text-align: right;\">\n",
       "      <th></th>\n",
       "      <th>acc</th>\n",
       "      <th>roc_auc</th>\n",
       "      <th>acc</th>\n",
       "      <th>roc_auc</th>\n",
       "      <th>acc</th>\n",
       "      <th>roc_auc</th>\n",
       "    </tr>\n",
       "  </thead>\n",
       "  <tbody>\n",
       "    <tr>\n",
       "      <th>logistic</th>\n",
       "      <td>0.857143</td>\n",
       "      <td>0.425926</td>\n",
       "      <td>0.714286</td>\n",
       "      <td>0.388889</td>\n",
       "      <td>0.761905</td>\n",
       "      <td>0.6250</td>\n",
       "    </tr>\n",
       "    <tr>\n",
       "      <th>random forest</th>\n",
       "      <td>0.857143</td>\n",
       "      <td>0.583333</td>\n",
       "      <td>0.666667</td>\n",
       "      <td>0.677778</td>\n",
       "      <td>0.761905</td>\n",
       "      <td>0.6875</td>\n",
       "    </tr>\n",
       "    <tr>\n",
       "      <th>extra trees</th>\n",
       "      <td>0.857143</td>\n",
       "      <td>0.407407</td>\n",
       "      <td>0.761905</td>\n",
       "      <td>0.666667</td>\n",
       "      <td>0.809524</td>\n",
       "      <td>0.6250</td>\n",
       "    </tr>\n",
       "    <tr>\n",
       "      <th>MLP NN</th>\n",
       "      <td>0.857143</td>\n",
       "      <td>0.500000</td>\n",
       "      <td>0.619048</td>\n",
       "      <td>0.216667</td>\n",
       "      <td>0.761905</td>\n",
       "      <td>0.5000</td>\n",
       "    </tr>\n",
       "  </tbody>\n",
       "</table>\n",
       "</div>"
      ],
      "text/plain": [
       "                    acc   roc_auc       acc   roc_auc       acc  roc_auc\n",
       "logistic       0.857143  0.425926  0.714286  0.388889  0.761905   0.6250\n",
       "random forest  0.857143  0.583333  0.666667  0.677778  0.761905   0.6875\n",
       "extra trees    0.857143  0.407407  0.761905  0.666667  0.809524   0.6250\n",
       "MLP NN         0.857143  0.500000  0.619048  0.216667  0.761905   0.5000"
      ]
     },
     "execution_count": 12,
     "metadata": {},
     "output_type": "execute_result"
    }
   ],
   "source": [
    "master # cv = 7"
   ]
  },
  {
   "cell_type": "code",
   "execution_count": 8,
   "id": "e8552037",
   "metadata": {},
   "outputs": [
    {
     "data": {
      "text/html": [
       "<div>\n",
       "<style scoped>\n",
       "    .dataframe tbody tr th:only-of-type {\n",
       "        vertical-align: middle;\n",
       "    }\n",
       "\n",
       "    .dataframe tbody tr th {\n",
       "        vertical-align: top;\n",
       "    }\n",
       "\n",
       "    .dataframe thead th {\n",
       "        text-align: right;\n",
       "    }\n",
       "</style>\n",
       "<table border=\"1\" class=\"dataframe\">\n",
       "  <thead>\n",
       "    <tr style=\"text-align: right;\">\n",
       "      <th></th>\n",
       "      <th>acc</th>\n",
       "      <th>roc_auc</th>\n",
       "      <th>acc</th>\n",
       "      <th>roc_auc</th>\n",
       "      <th>acc</th>\n",
       "      <th>roc_auc</th>\n",
       "    </tr>\n",
       "  </thead>\n",
       "  <tbody>\n",
       "    <tr>\n",
       "      <th>logistic</th>\n",
       "      <td>0.809524</td>\n",
       "      <td>0.632353</td>\n",
       "      <td>0.523810</td>\n",
       "      <td>0.300000</td>\n",
       "      <td>0.809524</td>\n",
       "      <td>0.617647</td>\n",
       "    </tr>\n",
       "    <tr>\n",
       "      <th>random forest</th>\n",
       "      <td>0.809524</td>\n",
       "      <td>0.750000</td>\n",
       "      <td>0.571429</td>\n",
       "      <td>0.581818</td>\n",
       "      <td>0.809524</td>\n",
       "      <td>0.786765</td>\n",
       "    </tr>\n",
       "    <tr>\n",
       "      <th>extra trees</th>\n",
       "      <td>0.809524</td>\n",
       "      <td>0.558824</td>\n",
       "      <td>0.619048</td>\n",
       "      <td>0.545455</td>\n",
       "      <td>0.761905</td>\n",
       "      <td>0.882353</td>\n",
       "    </tr>\n",
       "    <tr>\n",
       "      <th>MLP NN</th>\n",
       "      <td>0.809524</td>\n",
       "      <td>0.500000</td>\n",
       "      <td>0.380952</td>\n",
       "      <td>0.381818</td>\n",
       "      <td>0.714286</td>\n",
       "      <td>0.441176</td>\n",
       "    </tr>\n",
       "  </tbody>\n",
       "</table>\n",
       "</div>"
      ],
      "text/plain": [
       "                    acc   roc_auc       acc   roc_auc       acc   roc_auc\n",
       "logistic       0.809524  0.632353  0.523810  0.300000  0.809524  0.617647\n",
       "random forest  0.809524  0.750000  0.571429  0.581818  0.809524  0.786765\n",
       "extra trees    0.809524  0.558824  0.619048  0.545455  0.761905  0.882353\n",
       "MLP NN         0.809524  0.500000  0.380952  0.381818  0.714286  0.441176"
      ]
     },
     "execution_count": 8,
     "metadata": {},
     "output_type": "execute_result"
    }
   ],
   "source": [
    "master # cv =12"
   ]
  },
  {
   "cell_type": "code",
   "execution_count": 55,
   "id": "34fd52a1",
   "metadata": {},
   "outputs": [
    {
     "data": {
      "text/html": [
       "<div>\n",
       "<style scoped>\n",
       "    .dataframe tbody tr th:only-of-type {\n",
       "        vertical-align: middle;\n",
       "    }\n",
       "\n",
       "    .dataframe tbody tr th {\n",
       "        vertical-align: top;\n",
       "    }\n",
       "\n",
       "    .dataframe thead th {\n",
       "        text-align: right;\n",
       "    }\n",
       "</style>\n",
       "<table border=\"1\" class=\"dataframe\">\n",
       "  <thead>\n",
       "    <tr style=\"text-align: right;\">\n",
       "      <th></th>\n",
       "      <th>dep_acc</th>\n",
       "      <th>dep_roc_auc</th>\n",
       "      <th>anx_acc</th>\n",
       "      <th>anx_roc_auc</th>\n",
       "      <th>adhd_acc</th>\n",
       "      <th>adhd_roc_auc</th>\n",
       "    </tr>\n",
       "  </thead>\n",
       "  <tbody>\n",
       "    <tr>\n",
       "      <th>logistic</th>\n",
       "      <td>0.857143</td>\n",
       "      <td>0.425926</td>\n",
       "      <td>0.619048</td>\n",
       "      <td>0.644444</td>\n",
       "      <td>0.809524</td>\n",
       "      <td>0.397059</td>\n",
       "    </tr>\n",
       "    <tr>\n",
       "      <th>random forest</th>\n",
       "      <td>0.857143</td>\n",
       "      <td>0.500000</td>\n",
       "      <td>0.619048</td>\n",
       "      <td>0.533333</td>\n",
       "      <td>0.809524</td>\n",
       "      <td>0.566176</td>\n",
       "    </tr>\n",
       "    <tr>\n",
       "      <th>extra trees</th>\n",
       "      <td>0.857143</td>\n",
       "      <td>0.777778</td>\n",
       "      <td>0.571429</td>\n",
       "      <td>0.544444</td>\n",
       "      <td>0.761905</td>\n",
       "      <td>0.470588</td>\n",
       "    </tr>\n",
       "    <tr>\n",
       "      <th>MLP NN</th>\n",
       "      <td>0.809524</td>\n",
       "      <td>0.546296</td>\n",
       "      <td>0.571429</td>\n",
       "      <td>0.377778</td>\n",
       "      <td>0.809524</td>\n",
       "      <td>0.500000</td>\n",
       "    </tr>\n",
       "  </tbody>\n",
       "</table>\n",
       "</div>"
      ],
      "text/plain": [
       "                dep_acc  dep_roc_auc   anx_acc  anx_roc_auc  adhd_acc  \\\n",
       "logistic       0.857143     0.425926  0.619048     0.644444  0.809524   \n",
       "random forest  0.857143     0.500000  0.619048     0.533333  0.809524   \n",
       "extra trees    0.857143     0.777778  0.571429     0.544444  0.761905   \n",
       "MLP NN         0.809524     0.546296  0.571429     0.377778  0.809524   \n",
       "\n",
       "               adhd_roc_auc  \n",
       "logistic           0.397059  \n",
       "random forest      0.566176  \n",
       "extra trees        0.470588  \n",
       "MLP NN             0.500000  "
      ]
     },
     "execution_count": 55,
     "metadata": {},
     "output_type": "execute_result"
    }
   ],
   "source": [
    "master # cv = 12 num_iters = 100 pruned features"
   ]
  },
  {
   "cell_type": "code",
   "execution_count": 51,
   "id": "6a1ebdac",
   "metadata": {},
   "outputs": [
    {
     "data": {
      "text/html": [
       "<div>\n",
       "<style scoped>\n",
       "    .dataframe tbody tr th:only-of-type {\n",
       "        vertical-align: middle;\n",
       "    }\n",
       "\n",
       "    .dataframe tbody tr th {\n",
       "        vertical-align: top;\n",
       "    }\n",
       "\n",
       "    .dataframe thead th {\n",
       "        text-align: right;\n",
       "    }\n",
       "</style>\n",
       "<table border=\"1\" class=\"dataframe\">\n",
       "  <thead>\n",
       "    <tr style=\"text-align: right;\">\n",
       "      <th></th>\n",
       "      <th>dep_acc</th>\n",
       "      <th>dep_roc_auc</th>\n",
       "      <th>anx_acc</th>\n",
       "      <th>anx_roc_auc</th>\n",
       "      <th>adhd_acc</th>\n",
       "      <th>adhd_roc_auc</th>\n",
       "    </tr>\n",
       "  </thead>\n",
       "  <tbody>\n",
       "    <tr>\n",
       "      <th>logistic</th>\n",
       "      <td>0.857143</td>\n",
       "      <td>0.722222</td>\n",
       "      <td>0.523810</td>\n",
       "      <td>0.336364</td>\n",
       "      <td>0.761905</td>\n",
       "      <td>0.7375</td>\n",
       "    </tr>\n",
       "    <tr>\n",
       "      <th>random forest</th>\n",
       "      <td>0.857143</td>\n",
       "      <td>0.712963</td>\n",
       "      <td>0.476190</td>\n",
       "      <td>0.490909</td>\n",
       "      <td>0.809524</td>\n",
       "      <td>0.6375</td>\n",
       "    </tr>\n",
       "    <tr>\n",
       "      <th>extra trees</th>\n",
       "      <td>0.857143</td>\n",
       "      <td>0.388889</td>\n",
       "      <td>0.714286</td>\n",
       "      <td>0.600000</td>\n",
       "      <td>0.809524</td>\n",
       "      <td>0.5625</td>\n",
       "    </tr>\n",
       "    <tr>\n",
       "      <th>MLP NN</th>\n",
       "      <td>0.857143</td>\n",
       "      <td>0.500000</td>\n",
       "      <td>0.476190</td>\n",
       "      <td>0.459091</td>\n",
       "      <td>0.761905</td>\n",
       "      <td>0.5000</td>\n",
       "    </tr>\n",
       "  </tbody>\n",
       "</table>\n",
       "</div>"
      ],
      "text/plain": [
       "                dep_acc  dep_roc_auc   anx_acc  anx_roc_auc  adhd_acc  \\\n",
       "logistic       0.857143     0.722222  0.523810     0.336364  0.761905   \n",
       "random forest  0.857143     0.712963  0.476190     0.490909  0.809524   \n",
       "extra trees    0.857143     0.388889  0.714286     0.600000  0.809524   \n",
       "MLP NN         0.857143     0.500000  0.476190     0.459091  0.761905   \n",
       "\n",
       "               adhd_roc_auc  \n",
       "logistic             0.7375  \n",
       "random forest        0.6375  \n",
       "extra trees          0.5625  \n",
       "MLP NN               0.5000  "
      ]
     },
     "execution_count": 51,
     "metadata": {},
     "output_type": "execute_result"
    }
   ],
   "source": [
    "master # cv = 12 num_iters = 100 pruned features"
   ]
  },
  {
   "cell_type": "code",
   "execution_count": 47,
   "id": "4386d47a",
   "metadata": {},
   "outputs": [
    {
     "data": {
      "text/html": [
       "<div>\n",
       "<style scoped>\n",
       "    .dataframe tbody tr th:only-of-type {\n",
       "        vertical-align: middle;\n",
       "    }\n",
       "\n",
       "    .dataframe tbody tr th {\n",
       "        vertical-align: top;\n",
       "    }\n",
       "\n",
       "    .dataframe thead th {\n",
       "        text-align: right;\n",
       "    }\n",
       "</style>\n",
       "<table border=\"1\" class=\"dataframe\">\n",
       "  <thead>\n",
       "    <tr style=\"text-align: right;\">\n",
       "      <th></th>\n",
       "      <th>dep_acc</th>\n",
       "      <th>dep_roc_auc</th>\n",
       "      <th>anx_acc</th>\n",
       "      <th>anx_roc_auc</th>\n",
       "      <th>adhd_acc</th>\n",
       "      <th>adhd_roc_auc</th>\n",
       "      <th>dep_anx_adhd_acc</th>\n",
       "      <th>dep_anx_adhd_roc_auc</th>\n",
       "    </tr>\n",
       "  </thead>\n",
       "  <tbody>\n",
       "    <tr>\n",
       "      <th>logistic</th>\n",
       "      <td>0.857143</td>\n",
       "      <td>0.592593</td>\n",
       "      <td>0.523810</td>\n",
       "      <td>0.527273</td>\n",
       "      <td>0.761905</td>\n",
       "      <td>0.555556</td>\n",
       "      <td>0.523810</td>\n",
       "      <td>0.648148</td>\n",
       "    </tr>\n",
       "    <tr>\n",
       "      <th>random forest</th>\n",
       "      <td>0.857143</td>\n",
       "      <td>0.296296</td>\n",
       "      <td>0.571429</td>\n",
       "      <td>0.500000</td>\n",
       "      <td>0.761905</td>\n",
       "      <td>0.627778</td>\n",
       "      <td>0.523810</td>\n",
       "      <td>0.481481</td>\n",
       "    </tr>\n",
       "    <tr>\n",
       "      <th>extra trees</th>\n",
       "      <td>0.857143</td>\n",
       "      <td>0.481481</td>\n",
       "      <td>0.523810</td>\n",
       "      <td>0.518182</td>\n",
       "      <td>0.761905</td>\n",
       "      <td>0.738889</td>\n",
       "      <td>0.571429</td>\n",
       "      <td>0.620370</td>\n",
       "    </tr>\n",
       "    <tr>\n",
       "      <th>MLP NN</th>\n",
       "      <td>0.857143</td>\n",
       "      <td>0.500000</td>\n",
       "      <td>0.523810</td>\n",
       "      <td>0.454545</td>\n",
       "      <td>0.619048</td>\n",
       "      <td>0.411111</td>\n",
       "      <td>0.476190</td>\n",
       "      <td>0.532407</td>\n",
       "    </tr>\n",
       "  </tbody>\n",
       "</table>\n",
       "</div>"
      ],
      "text/plain": [
       "                dep_acc  dep_roc_auc   anx_acc  anx_roc_auc  adhd_acc  \\\n",
       "logistic       0.857143     0.592593  0.523810     0.527273  0.761905   \n",
       "random forest  0.857143     0.296296  0.571429     0.500000  0.761905   \n",
       "extra trees    0.857143     0.481481  0.523810     0.518182  0.761905   \n",
       "MLP NN         0.857143     0.500000  0.523810     0.454545  0.619048   \n",
       "\n",
       "               adhd_roc_auc  dep_anx_adhd_acc  dep_anx_adhd_roc_auc  \n",
       "logistic           0.555556          0.523810              0.648148  \n",
       "random forest      0.627778          0.523810              0.481481  \n",
       "extra trees        0.738889          0.571429              0.620370  \n",
       "MLP NN             0.411111          0.476190              0.532407  "
      ]
     },
     "execution_count": 47,
     "metadata": {},
     "output_type": "execute_result"
    }
   ],
   "source": [
    "fifty_iters # cv = 12 num_iters = 50 pruned features"
   ]
  },
  {
   "cell_type": "code",
   "execution_count": 40,
   "id": "afbbbafe",
   "metadata": {},
   "outputs": [
    {
     "data": {
      "text/html": [
       "<div>\n",
       "<style scoped>\n",
       "    .dataframe tbody tr th:only-of-type {\n",
       "        vertical-align: middle;\n",
       "    }\n",
       "\n",
       "    .dataframe tbody tr th {\n",
       "        vertical-align: top;\n",
       "    }\n",
       "\n",
       "    .dataframe thead th {\n",
       "        text-align: right;\n",
       "    }\n",
       "</style>\n",
       "<table border=\"1\" class=\"dataframe\">\n",
       "  <thead>\n",
       "    <tr style=\"text-align: right;\">\n",
       "      <th></th>\n",
       "      <th>dep_acc</th>\n",
       "      <th>dep_roc_auc</th>\n",
       "      <th>anx_acc</th>\n",
       "      <th>anx_roc_auc</th>\n",
       "      <th>adhd_acc</th>\n",
       "      <th>adhd_roc_auc</th>\n",
       "      <th>dep_anx_adhd_acc</th>\n",
       "      <th>dep_anx_adhd_roc_auc</th>\n",
       "    </tr>\n",
       "  </thead>\n",
       "  <tbody>\n",
       "    <tr>\n",
       "      <th>logistic</th>\n",
       "      <td>0.761905</td>\n",
       "      <td>0.50000</td>\n",
       "      <td>0.523810</td>\n",
       "      <td>0.336364</td>\n",
       "      <td>0.666667</td>\n",
       "      <td>0.41250</td>\n",
       "      <td>0.523810</td>\n",
       "      <td>0.577273</td>\n",
       "    </tr>\n",
       "    <tr>\n",
       "      <th>random forest</th>\n",
       "      <td>0.761905</td>\n",
       "      <td>0.20000</td>\n",
       "      <td>0.476190</td>\n",
       "      <td>0.527273</td>\n",
       "      <td>0.761905</td>\n",
       "      <td>0.44375</td>\n",
       "      <td>0.571429</td>\n",
       "      <td>0.600000</td>\n",
       "    </tr>\n",
       "    <tr>\n",
       "      <th>extra trees</th>\n",
       "      <td>0.761905</td>\n",
       "      <td>0.30625</td>\n",
       "      <td>0.571429</td>\n",
       "      <td>0.445455</td>\n",
       "      <td>0.666667</td>\n",
       "      <td>0.46250</td>\n",
       "      <td>0.428571</td>\n",
       "      <td>0.554545</td>\n",
       "    </tr>\n",
       "    <tr>\n",
       "      <th>MLP NN</th>\n",
       "      <td>0.476190</td>\n",
       "      <td>0.47500</td>\n",
       "      <td>0.476190</td>\n",
       "      <td>0.454545</td>\n",
       "      <td>0.761905</td>\n",
       "      <td>0.46250</td>\n",
       "      <td>0.428571</td>\n",
       "      <td>0.481818</td>\n",
       "    </tr>\n",
       "  </tbody>\n",
       "</table>\n",
       "</div>"
      ],
      "text/plain": [
       "                dep_acc  dep_roc_auc   anx_acc  anx_roc_auc  adhd_acc  \\\n",
       "logistic       0.761905      0.50000  0.523810     0.336364  0.666667   \n",
       "random forest  0.761905      0.20000  0.476190     0.527273  0.761905   \n",
       "extra trees    0.761905      0.30625  0.571429     0.445455  0.666667   \n",
       "MLP NN         0.476190      0.47500  0.476190     0.454545  0.761905   \n",
       "\n",
       "               adhd_roc_auc  dep_anx_adhd_acc  dep_anx_adhd_roc_auc  \n",
       "logistic            0.41250          0.523810              0.577273  \n",
       "random forest       0.44375          0.571429              0.600000  \n",
       "extra trees         0.46250          0.428571              0.554545  \n",
       "MLP NN              0.46250          0.428571              0.481818  "
      ]
     },
     "execution_count": 40,
     "metadata": {},
     "output_type": "execute_result"
    }
   ],
   "source": [
    "fifty_iters #cv = 7 num_iters = 50 pruned features"
   ]
  },
  {
   "cell_type": "code",
   "execution_count": 33,
   "id": "85073d2e",
   "metadata": {},
   "outputs": [
    {
     "data": {
      "text/html": [
       "<div>\n",
       "<style scoped>\n",
       "    .dataframe tbody tr th:only-of-type {\n",
       "        vertical-align: middle;\n",
       "    }\n",
       "\n",
       "    .dataframe tbody tr th {\n",
       "        vertical-align: top;\n",
       "    }\n",
       "\n",
       "    .dataframe thead th {\n",
       "        text-align: right;\n",
       "    }\n",
       "</style>\n",
       "<table border=\"1\" class=\"dataframe\">\n",
       "  <thead>\n",
       "    <tr style=\"text-align: right;\">\n",
       "      <th></th>\n",
       "      <th>dep_acc</th>\n",
       "      <th>dep_roc_auc</th>\n",
       "      <th>anx_acc</th>\n",
       "      <th>anx_roc_auc</th>\n",
       "      <th>adhd_acc</th>\n",
       "      <th>adhd_roc_auc</th>\n",
       "      <th>dep_anx_adhd_acc</th>\n",
       "      <th>dep_anx_adhd_roc_auc</th>\n",
       "    </tr>\n",
       "  </thead>\n",
       "  <tbody>\n",
       "    <tr>\n",
       "      <th>logistic</th>\n",
       "      <td>0.857143</td>\n",
       "      <td>0.388889</td>\n",
       "      <td>0.666667</td>\n",
       "      <td>0.514706</td>\n",
       "      <td>0.619048</td>\n",
       "      <td>0.653846</td>\n",
       "      <td>0.428571</td>\n",
       "      <td>0.488889</td>\n",
       "    </tr>\n",
       "    <tr>\n",
       "      <th>random forest</th>\n",
       "      <td>0.857143</td>\n",
       "      <td>0.629630</td>\n",
       "      <td>0.666667</td>\n",
       "      <td>0.441176</td>\n",
       "      <td>0.523810</td>\n",
       "      <td>0.485577</td>\n",
       "      <td>0.571429</td>\n",
       "      <td>0.577778</td>\n",
       "    </tr>\n",
       "    <tr>\n",
       "      <th>extra trees</th>\n",
       "      <td>0.857143</td>\n",
       "      <td>0.444444</td>\n",
       "      <td>0.619048</td>\n",
       "      <td>0.426471</td>\n",
       "      <td>0.619048</td>\n",
       "      <td>0.596154</td>\n",
       "      <td>0.380952</td>\n",
       "      <td>0.533333</td>\n",
       "    </tr>\n",
       "    <tr>\n",
       "      <th>MLP NN</th>\n",
       "      <td>0.857143</td>\n",
       "      <td>0.500000</td>\n",
       "      <td>0.523810</td>\n",
       "      <td>0.419118</td>\n",
       "      <td>0.619048</td>\n",
       "      <td>0.500000</td>\n",
       "      <td>0.476190</td>\n",
       "      <td>0.511111</td>\n",
       "    </tr>\n",
       "  </tbody>\n",
       "</table>\n",
       "</div>"
      ],
      "text/plain": [
       "                dep_acc  dep_roc_auc   anx_acc  anx_roc_auc  adhd_acc  \\\n",
       "logistic       0.857143     0.388889  0.666667     0.514706  0.619048   \n",
       "random forest  0.857143     0.629630  0.666667     0.441176  0.523810   \n",
       "extra trees    0.857143     0.444444  0.619048     0.426471  0.619048   \n",
       "MLP NN         0.857143     0.500000  0.523810     0.419118  0.619048   \n",
       "\n",
       "               adhd_roc_auc  dep_anx_adhd_acc  dep_anx_adhd_roc_auc  \n",
       "logistic           0.653846          0.428571              0.488889  \n",
       "random forest      0.485577          0.571429              0.577778  \n",
       "extra trees        0.596154          0.380952              0.533333  \n",
       "MLP NN             0.500000          0.476190              0.511111  "
      ]
     },
     "execution_count": 33,
     "metadata": {},
     "output_type": "execute_result"
    }
   ],
   "source": [
    "fifty_iters #cv = 7 num_iters = 100 pruned features"
   ]
  },
  {
   "cell_type": "code",
   "execution_count": 164,
   "id": "2cf47497",
   "metadata": {},
   "outputs": [
    {
     "data": {
      "text/html": [
       "<div>\n",
       "<style scoped>\n",
       "    .dataframe tbody tr th:only-of-type {\n",
       "        vertical-align: middle;\n",
       "    }\n",
       "\n",
       "    .dataframe tbody tr th {\n",
       "        vertical-align: top;\n",
       "    }\n",
       "\n",
       "    .dataframe thead th {\n",
       "        text-align: right;\n",
       "    }\n",
       "</style>\n",
       "<table border=\"1\" class=\"dataframe\">\n",
       "  <thead>\n",
       "    <tr style=\"text-align: right;\">\n",
       "      <th></th>\n",
       "      <th>dep_acc</th>\n",
       "      <th>dep_roc_auc</th>\n",
       "      <th>anx_acc</th>\n",
       "      <th>anx_roc_auc</th>\n",
       "      <th>adhd_acc</th>\n",
       "      <th>adhd_roc_auc</th>\n",
       "      <th>dep_anx_adhd_acc</th>\n",
       "      <th>dep_anx_adhd_roc_auc</th>\n",
       "    </tr>\n",
       "  </thead>\n",
       "  <tbody>\n",
       "    <tr>\n",
       "      <th>logistic</th>\n",
       "      <td>0.809524</td>\n",
       "      <td>0.426471</td>\n",
       "      <td>0.666667</td>\n",
       "      <td>0.588235</td>\n",
       "      <td>0.761905</td>\n",
       "      <td>0.500000</td>\n",
       "      <td>0.380952</td>\n",
       "      <td>0.442308</td>\n",
       "    </tr>\n",
       "    <tr>\n",
       "      <th>random forest</th>\n",
       "      <td>0.761905</td>\n",
       "      <td>0.588235</td>\n",
       "      <td>0.619048</td>\n",
       "      <td>0.485294</td>\n",
       "      <td>0.952381</td>\n",
       "      <td>0.921053</td>\n",
       "      <td>0.380952</td>\n",
       "      <td>0.326923</td>\n",
       "    </tr>\n",
       "    <tr>\n",
       "      <th>extra trees</th>\n",
       "      <td>0.761905</td>\n",
       "      <td>0.463235</td>\n",
       "      <td>0.761905</td>\n",
       "      <td>0.500000</td>\n",
       "      <td>0.952381</td>\n",
       "      <td>0.894737</td>\n",
       "      <td>0.571429</td>\n",
       "      <td>0.524038</td>\n",
       "    </tr>\n",
       "    <tr>\n",
       "      <th>MLP NN</th>\n",
       "      <td>0.809524</td>\n",
       "      <td>0.500000</td>\n",
       "      <td>0.190476</td>\n",
       "      <td>0.485294</td>\n",
       "      <td>0.904762</td>\n",
       "      <td>0.500000</td>\n",
       "      <td>0.476190</td>\n",
       "      <td>0.413462</td>\n",
       "    </tr>\n",
       "  </tbody>\n",
       "</table>\n",
       "</div>"
      ],
      "text/plain": [
       "                dep_acc  dep_roc_auc   anx_acc  anx_roc_auc  adhd_acc  \\\n",
       "logistic       0.809524     0.426471  0.666667     0.588235  0.761905   \n",
       "random forest  0.761905     0.588235  0.619048     0.485294  0.952381   \n",
       "extra trees    0.761905     0.463235  0.761905     0.500000  0.952381   \n",
       "MLP NN         0.809524     0.500000  0.190476     0.485294  0.904762   \n",
       "\n",
       "               adhd_roc_auc  dep_anx_adhd_acc  dep_anx_adhd_roc_auc  \n",
       "logistic           0.500000          0.380952              0.442308  \n",
       "random forest      0.921053          0.380952              0.326923  \n",
       "extra trees        0.894737          0.571429              0.524038  \n",
       "MLP NN             0.500000          0.476190              0.413462  "
      ]
     },
     "execution_count": 164,
     "metadata": {},
     "output_type": "execute_result"
    }
   ],
   "source": [
    "# DONT RUN old setting without pruning features"
   ]
  }
 ],
 "metadata": {
  "kernelspec": {
   "display_name": "Python 3 (ipykernel)",
   "language": "python",
   "name": "python3"
  },
  "language_info": {
   "codemirror_mode": {
    "name": "ipython",
    "version": 3
   },
   "file_extension": ".py",
   "mimetype": "text/x-python",
   "name": "python",
   "nbconvert_exporter": "python",
   "pygments_lexer": "ipython3",
   "version": "3.9.12"
  }
 },
 "nbformat": 4,
 "nbformat_minor": 5
}
